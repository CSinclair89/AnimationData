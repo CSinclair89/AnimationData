{
 "cells": [
  {
   "cell_type": "code",
   "execution_count": 57,
   "id": "c6548f1f",
   "metadata": {},
   "outputs": [],
   "source": [
    "import matplotlib.pyplot as plt\n",
    "import numpy as np\n",
    "import pandas as pd\n",
    "from scipy.interpolate import make_interp_spline, BSpline"
   ]
  },
  {
   "cell_type": "code",
   "execution_count": 58,
   "id": "e6f657f7",
   "metadata": {
    "scrolled": false
   },
   "outputs": [
    {
     "data": {
      "text/html": [
       "<div>\n",
       "<style scoped>\n",
       "    .dataframe tbody tr th:only-of-type {\n",
       "        vertical-align: middle;\n",
       "    }\n",
       "\n",
       "    .dataframe tbody tr th {\n",
       "        vertical-align: top;\n",
       "    }\n",
       "\n",
       "    .dataframe thead th {\n",
       "        text-align: right;\n",
       "    }\n",
       "</style>\n",
       "<table border=\"1\" class=\"dataframe\">\n",
       "  <thead>\n",
       "    <tr style=\"text-align: right;\">\n",
       "      <th></th>\n",
       "      <th>date</th>\n",
       "      <th>month</th>\n",
       "      <th>week</th>\n",
       "      <th>day</th>\n",
       "      <th>intro</th>\n",
       "      <th>verse1</th>\n",
       "      <th>solo1</th>\n",
       "      <th>solo2</th>\n",
       "      <th>verse2</th>\n",
       "      <th>outro</th>\n",
       "      <th>compositing</th>\n",
       "    </tr>\n",
       "  </thead>\n",
       "  <tbody>\n",
       "    <tr>\n",
       "      <th>0</th>\n",
       "      <td>4/1</td>\n",
       "      <td>april</td>\n",
       "      <td>1</td>\n",
       "      <td>saturday</td>\n",
       "      <td>6.0</td>\n",
       "      <td>0.0</td>\n",
       "      <td>0.0</td>\n",
       "      <td>0.0</td>\n",
       "      <td>2.0</td>\n",
       "      <td>0.0</td>\n",
       "      <td>0.0</td>\n",
       "    </tr>\n",
       "    <tr>\n",
       "      <th>1</th>\n",
       "      <td>4/2</td>\n",
       "      <td>april</td>\n",
       "      <td>2</td>\n",
       "      <td>sunday</td>\n",
       "      <td>4.0</td>\n",
       "      <td>0.0</td>\n",
       "      <td>0.0</td>\n",
       "      <td>0.0</td>\n",
       "      <td>0.0</td>\n",
       "      <td>0.0</td>\n",
       "      <td>0.0</td>\n",
       "    </tr>\n",
       "    <tr>\n",
       "      <th>2</th>\n",
       "      <td>4/3</td>\n",
       "      <td>april</td>\n",
       "      <td>2</td>\n",
       "      <td>monday</td>\n",
       "      <td>4.5</td>\n",
       "      <td>0.0</td>\n",
       "      <td>0.0</td>\n",
       "      <td>0.0</td>\n",
       "      <td>0.0</td>\n",
       "      <td>0.0</td>\n",
       "      <td>0.0</td>\n",
       "    </tr>\n",
       "    <tr>\n",
       "      <th>3</th>\n",
       "      <td>4/4</td>\n",
       "      <td>april</td>\n",
       "      <td>2</td>\n",
       "      <td>tuesday</td>\n",
       "      <td>4.0</td>\n",
       "      <td>0.0</td>\n",
       "      <td>0.0</td>\n",
       "      <td>0.0</td>\n",
       "      <td>0.0</td>\n",
       "      <td>0.0</td>\n",
       "      <td>0.0</td>\n",
       "    </tr>\n",
       "    <tr>\n",
       "      <th>4</th>\n",
       "      <td>4/5</td>\n",
       "      <td>april</td>\n",
       "      <td>2</td>\n",
       "      <td>wednesday</td>\n",
       "      <td>3.5</td>\n",
       "      <td>0.0</td>\n",
       "      <td>0.0</td>\n",
       "      <td>0.0</td>\n",
       "      <td>0.0</td>\n",
       "      <td>0.0</td>\n",
       "      <td>0.0</td>\n",
       "    </tr>\n",
       "    <tr>\n",
       "      <th>...</th>\n",
       "      <td>...</td>\n",
       "      <td>...</td>\n",
       "      <td>...</td>\n",
       "      <td>...</td>\n",
       "      <td>...</td>\n",
       "      <td>...</td>\n",
       "      <td>...</td>\n",
       "      <td>...</td>\n",
       "      <td>...</td>\n",
       "      <td>...</td>\n",
       "      <td>...</td>\n",
       "    </tr>\n",
       "    <tr>\n",
       "      <th>259</th>\n",
       "      <td>12/16</td>\n",
       "      <td>december</td>\n",
       "      <td>38</td>\n",
       "      <td>saturday</td>\n",
       "      <td>0.0</td>\n",
       "      <td>0.0</td>\n",
       "      <td>0.0</td>\n",
       "      <td>0.0</td>\n",
       "      <td>1.5</td>\n",
       "      <td>0.0</td>\n",
       "      <td>1.0</td>\n",
       "    </tr>\n",
       "    <tr>\n",
       "      <th>260</th>\n",
       "      <td>12/17</td>\n",
       "      <td>december</td>\n",
       "      <td>39</td>\n",
       "      <td>sunday</td>\n",
       "      <td>0.0</td>\n",
       "      <td>0.0</td>\n",
       "      <td>0.0</td>\n",
       "      <td>0.0</td>\n",
       "      <td>1.5</td>\n",
       "      <td>0.0</td>\n",
       "      <td>3.5</td>\n",
       "    </tr>\n",
       "    <tr>\n",
       "      <th>261</th>\n",
       "      <td>12/18</td>\n",
       "      <td>december</td>\n",
       "      <td>39</td>\n",
       "      <td>monday</td>\n",
       "      <td>0.0</td>\n",
       "      <td>3.5</td>\n",
       "      <td>0.0</td>\n",
       "      <td>0.0</td>\n",
       "      <td>0.0</td>\n",
       "      <td>0.0</td>\n",
       "      <td>0.0</td>\n",
       "    </tr>\n",
       "    <tr>\n",
       "      <th>262</th>\n",
       "      <td>12/19</td>\n",
       "      <td>december</td>\n",
       "      <td>39</td>\n",
       "      <td>tuesday</td>\n",
       "      <td>0.0</td>\n",
       "      <td>1.5</td>\n",
       "      <td>0.0</td>\n",
       "      <td>0.0</td>\n",
       "      <td>0.0</td>\n",
       "      <td>0.0</td>\n",
       "      <td>0.0</td>\n",
       "    </tr>\n",
       "    <tr>\n",
       "      <th>263</th>\n",
       "      <td>12/20</td>\n",
       "      <td>december</td>\n",
       "      <td>39</td>\n",
       "      <td>wednesday</td>\n",
       "      <td>0.0</td>\n",
       "      <td>0.5</td>\n",
       "      <td>0.0</td>\n",
       "      <td>0.0</td>\n",
       "      <td>0.0</td>\n",
       "      <td>0.0</td>\n",
       "      <td>0.0</td>\n",
       "    </tr>\n",
       "  </tbody>\n",
       "</table>\n",
       "<p>264 rows × 11 columns</p>\n",
       "</div>"
      ],
      "text/plain": [
       "      date     month  week        day  intro  verse1  solo1  solo2  verse2  \\\n",
       "0      4/1     april     1   saturday    6.0     0.0    0.0    0.0     2.0   \n",
       "1      4/2     april     2     sunday    4.0     0.0    0.0    0.0     0.0   \n",
       "2      4/3     april     2     monday    4.5     0.0    0.0    0.0     0.0   \n",
       "3      4/4     april     2    tuesday    4.0     0.0    0.0    0.0     0.0   \n",
       "4      4/5     april     2  wednesday    3.5     0.0    0.0    0.0     0.0   \n",
       "..     ...       ...   ...        ...    ...     ...    ...    ...     ...   \n",
       "259  12/16  december    38   saturday    0.0     0.0    0.0    0.0     1.5   \n",
       "260  12/17  december    39     sunday    0.0     0.0    0.0    0.0     1.5   \n",
       "261  12/18  december    39     monday    0.0     3.5    0.0    0.0     0.0   \n",
       "262  12/19  december    39    tuesday    0.0     1.5    0.0    0.0     0.0   \n",
       "263  12/20  december    39  wednesday    0.0     0.5    0.0    0.0     0.0   \n",
       "\n",
       "     outro  compositing  \n",
       "0      0.0          0.0  \n",
       "1      0.0          0.0  \n",
       "2      0.0          0.0  \n",
       "3      0.0          0.0  \n",
       "4      0.0          0.0  \n",
       "..     ...          ...  \n",
       "259    0.0          1.0  \n",
       "260    0.0          3.5  \n",
       "261    0.0          0.0  \n",
       "262    0.0          0.0  \n",
       "263    0.0          0.0  \n",
       "\n",
       "[264 rows x 11 columns]"
      ]
     },
     "execution_count": 58,
     "metadata": {},
     "output_type": "execute_result"
    }
   ],
   "source": [
    "pd = pd.read_csv(\"data/hours.csv\")\n",
    "pd"
   ]
  },
  {
   "cell_type": "code",
   "execution_count": 59,
   "id": "74ebd4ab",
   "metadata": {},
   "outputs": [
    {
     "data": {
      "text/plain": [
       "date           0\n",
       "month          0\n",
       "week           0\n",
       "day            0\n",
       "intro          0\n",
       "verse1         0\n",
       "solo1          0\n",
       "solo2          0\n",
       "verse2         0\n",
       "outro          0\n",
       "compositing    0\n",
       "dtype: int64"
      ]
     },
     "execution_count": 59,
     "metadata": {},
     "output_type": "execute_result"
    }
   ],
   "source": [
    "pd_subset = pd.isnull().sum()\n",
    "pd_subset"
   ]
  },
  {
   "cell_type": "code",
   "execution_count": 60,
   "id": "9166804f",
   "metadata": {},
   "outputs": [
    {
     "data": {
      "text/plain": [
       "47.0"
      ]
     },
     "execution_count": 60,
     "metadata": {},
     "output_type": "execute_result"
    }
   ],
   "source": [
    "intro_total = pd[\"intro\"].sum()\n",
    "est_intro_previous = 10\n",
    "intro_total = intro_total + est_intro_previous\n",
    "intro_total"
   ]
  },
  {
   "cell_type": "code",
   "execution_count": 61,
   "id": "3ee29dca",
   "metadata": {},
   "outputs": [
    {
     "data": {
      "text/plain": [
       "340.0"
      ]
     },
     "execution_count": 61,
     "metadata": {},
     "output_type": "execute_result"
    }
   ],
   "source": [
    "verse1_total = pd[\"verse1\"].sum()\n",
    "verse1_total"
   ]
  },
  {
   "cell_type": "code",
   "execution_count": 62,
   "id": "72ba19dd",
   "metadata": {},
   "outputs": [
    {
     "data": {
      "text/plain": [
       "87.0"
      ]
     },
     "execution_count": 62,
     "metadata": {},
     "output_type": "execute_result"
    }
   ],
   "source": [
    "solo1_total = pd[\"solo1\"].sum()\n",
    "solo1_total"
   ]
  },
  {
   "cell_type": "code",
   "execution_count": 63,
   "id": "833e69e2",
   "metadata": {
    "scrolled": true
   },
   "outputs": [
    {
     "data": {
      "text/plain": [
       "26.5"
      ]
     },
     "execution_count": 63,
     "metadata": {},
     "output_type": "execute_result"
    }
   ],
   "source": [
    "solo2_total = pd[\"solo2\"].sum()\n",
    "solo2_total"
   ]
  },
  {
   "cell_type": "code",
   "execution_count": 64,
   "id": "8e92f756",
   "metadata": {},
   "outputs": [],
   "source": [
    "est_solo_previous = 200"
   ]
  },
  {
   "cell_type": "code",
   "execution_count": 65,
   "id": "55ab2cc1",
   "metadata": {},
   "outputs": [
    {
     "data": {
      "text/plain": [
       "313.5"
      ]
     },
     "execution_count": 65,
     "metadata": {},
     "output_type": "execute_result"
    }
   ],
   "source": [
    "solo_total = solo1_total + solo2_total + est_solo_previous\n",
    "solo_total"
   ]
  },
  {
   "cell_type": "code",
   "execution_count": 66,
   "id": "18fa7979",
   "metadata": {},
   "outputs": [
    {
     "data": {
      "text/plain": [
       "161.5"
      ]
     },
     "execution_count": 66,
     "metadata": {},
     "output_type": "execute_result"
    }
   ],
   "source": [
    "verse2_total = pd[\"verse2\"].sum()\n",
    "est_verse2_previous = 14\n",
    "verse2_total = verse2_total + est_verse2_previous\n",
    "verse2_total"
   ]
  },
  {
   "cell_type": "code",
   "execution_count": 67,
   "id": "28ab8e3b",
   "metadata": {},
   "outputs": [
    {
     "data": {
      "text/plain": [
       "23.5"
      ]
     },
     "execution_count": 67,
     "metadata": {},
     "output_type": "execute_result"
    }
   ],
   "source": [
    "outro_total = pd[\"outro\"].sum()\n",
    "outro_total"
   ]
  },
  {
   "cell_type": "code",
   "execution_count": 68,
   "id": "813ae29f",
   "metadata": {
    "scrolled": true
   },
   "outputs": [
    {
     "data": {
      "text/plain": [
       "14.5"
      ]
     },
     "execution_count": 68,
     "metadata": {},
     "output_type": "execute_result"
    }
   ],
   "source": [
    "compositing_total = pd[\"compositing\"].sum()\n",
    "compositing_total"
   ]
  },
  {
   "cell_type": "code",
   "execution_count": 69,
   "id": "ab18234c",
   "metadata": {},
   "outputs": [
    {
     "name": "stdout",
     "output_type": "stream",
     "text": [
      "date           38\n",
      "month          38\n",
      "week           38\n",
      "day            38\n",
      "intro          38\n",
      "verse1         38\n",
      "solo1          38\n",
      "solo2          38\n",
      "verse2         38\n",
      "outro          38\n",
      "compositing    38\n",
      "dtype: int64\n"
     ]
    }
   ],
   "source": [
    "sunday_subset = pd[pd[\"day\"] == \"sunday\"]\n",
    "print(sunday_subset.count())\n",
    "\n",
    "sunday_subset_intro_total = sunday_subset[\"intro\"].sum()\n",
    "sunday_subset_verse1_total = sunday_subset[\"verse1\"].sum()\n",
    "sunday_subset_solo1_total = sunday_subset[\"solo1\"].sum()\n",
    "sunday_subset_solo2_total = sunday_subset[\"solo2\"].sum()\n",
    "sunday_subset_verse2_total = sunday_subset[\"verse2\"].sum()\n",
    "sunday_subset_outro_total = sunday_subset[\"outro\"].sum()\n",
    "sunday_subset_compositing_total = sunday_subset[\"compositing\"].sum()\n",
    "\n",
    "sunday_total = sunday_subset_intro_total + sunday_subset_verse1_total + sunday_subset_solo1_total + sunday_subset_solo2_total + sunday_subset_verse2_total + sunday_subset_outro_total + sunday_subset_compositing_total\n",
    "sunday_mean = round((sunday_total / 38), 2)"
   ]
  },
  {
   "cell_type": "code",
   "execution_count": 70,
   "id": "474aa915",
   "metadata": {},
   "outputs": [
    {
     "name": "stdout",
     "output_type": "stream",
     "text": [
      "date           38\n",
      "month          38\n",
      "week           38\n",
      "day            38\n",
      "intro          38\n",
      "verse1         38\n",
      "solo1          38\n",
      "solo2          38\n",
      "verse2         38\n",
      "outro          38\n",
      "compositing    38\n",
      "dtype: int64\n"
     ]
    }
   ],
   "source": [
    "monday_subset = pd[pd[\"day\"] == \"monday\"]\n",
    "print(monday_subset.count())\n",
    "\n",
    "monday_subset_intro_total = monday_subset[\"intro\"].sum()\n",
    "monday_subset_verse1_total = monday_subset[\"verse1\"].sum()\n",
    "monday_subset_solo1_total = monday_subset[\"solo1\"].sum()\n",
    "monday_subset_solo2_total = monday_subset[\"solo2\"].sum()\n",
    "monday_subset_verse2_total = monday_subset[\"verse2\"].sum()\n",
    "monday_subset_outro_total = monday_subset[\"outro\"].sum()\n",
    "monday_subset_compositing_total = monday_subset[\"compositing\"].sum()\n",
    "\n",
    "monday_total = monday_subset_intro_total + monday_subset_verse1_total + monday_subset_solo1_total + monday_subset_solo2_total + monday_subset_verse2_total + monday_subset_outro_total + monday_subset_compositing_total\n",
    "monday_mean = round((monday_total / 38), 2)"
   ]
  },
  {
   "cell_type": "code",
   "execution_count": 71,
   "id": "5e021fe7",
   "metadata": {},
   "outputs": [
    {
     "name": "stdout",
     "output_type": "stream",
     "text": [
      "date           38\n",
      "month          38\n",
      "week           38\n",
      "day            38\n",
      "intro          38\n",
      "verse1         38\n",
      "solo1          38\n",
      "solo2          38\n",
      "verse2         38\n",
      "outro          38\n",
      "compositing    38\n",
      "dtype: int64\n"
     ]
    }
   ],
   "source": [
    "tuesday_subset = pd[pd[\"day\"] == \"tuesday\"]\n",
    "print(tuesday_subset.count())\n",
    "\n",
    "tuesday_subset_intro_total = tuesday_subset[\"intro\"].sum()\n",
    "tuesday_subset_verse1_total = tuesday_subset[\"verse1\"].sum()\n",
    "tuesday_subset_solo1_total = tuesday_subset[\"solo1\"].sum()\n",
    "tuesday_subset_solo2_total = tuesday_subset[\"solo2\"].sum()\n",
    "tuesday_subset_verse2_total = tuesday_subset[\"verse2\"].sum()\n",
    "tuesday_subset_outro_total = tuesday_subset[\"outro\"].sum()\n",
    "tuesday_subset_compositing_total = tuesday_subset[\"compositing\"].sum()\n",
    "\n",
    "tuesday_total = tuesday_subset_intro_total + tuesday_subset_verse1_total + tuesday_subset_solo1_total + tuesday_subset_solo2_total + tuesday_subset_verse2_total + tuesday_subset_outro_total + tuesday_subset_compositing_total\n",
    "tuesday_mean = round((tuesday_total / 38), 2)"
   ]
  },
  {
   "cell_type": "code",
   "execution_count": 72,
   "id": "6d30b93b",
   "metadata": {},
   "outputs": [
    {
     "name": "stdout",
     "output_type": "stream",
     "text": [
      "date           38\n",
      "month          38\n",
      "week           38\n",
      "day            38\n",
      "intro          38\n",
      "verse1         38\n",
      "solo1          38\n",
      "solo2          38\n",
      "verse2         38\n",
      "outro          38\n",
      "compositing    38\n",
      "dtype: int64\n"
     ]
    }
   ],
   "source": [
    "wednesday_subset = pd[pd[\"day\"] == \"wednesday\"]\n",
    "print(wednesday_subset.count())\n",
    "\n",
    "wednesday_subset_intro_total = wednesday_subset[\"intro\"].sum()\n",
    "wednesday_subset_verse1_total = wednesday_subset[\"verse1\"].sum()\n",
    "wednesday_subset_solo1_total = wednesday_subset[\"solo1\"].sum()\n",
    "wednesday_subset_solo2_total = wednesday_subset[\"solo2\"].sum()\n",
    "wednesday_subset_verse2_total = wednesday_subset[\"verse2\"].sum()\n",
    "wednesday_subset_outro_total = wednesday_subset[\"outro\"].sum()\n",
    "wednesday_subset_compositing_total = wednesday_subset[\"compositing\"].sum()\n",
    "\n",
    "wednesday_total = wednesday_subset_intro_total + wednesday_subset_verse1_total + wednesday_subset_solo1_total + wednesday_subset_solo2_total + wednesday_subset_verse2_total + wednesday_subset_outro_total + wednesday_subset_compositing_total\n",
    "wednesday_mean = round((wednesday_total / 38), 2)"
   ]
  },
  {
   "cell_type": "code",
   "execution_count": 73,
   "id": "6571ecea",
   "metadata": {},
   "outputs": [
    {
     "name": "stdout",
     "output_type": "stream",
     "text": [
      "date           37\n",
      "month          37\n",
      "week           37\n",
      "day            37\n",
      "intro          37\n",
      "verse1         37\n",
      "solo1          37\n",
      "solo2          37\n",
      "verse2         37\n",
      "outro          37\n",
      "compositing    37\n",
      "dtype: int64\n"
     ]
    }
   ],
   "source": [
    "thursday_subset = pd[pd[\"day\"] == \"thursday\"]\n",
    "print(thursday_subset.count())\n",
    "\n",
    "thursday_subset_intro_total = thursday_subset[\"intro\"].sum()\n",
    "thursday_subset_verse1_total = thursday_subset[\"verse1\"].sum()\n",
    "thursday_subset_solo1_total = thursday_subset[\"solo1\"].sum()\n",
    "thursday_subset_solo2_total = thursday_subset[\"solo2\"].sum()\n",
    "thursday_subset_verse2_total = thursday_subset[\"verse2\"].sum()\n",
    "thursday_subset_outro_total = thursday_subset[\"outro\"].sum()\n",
    "thursday_subset_compositing_total = thursday_subset[\"compositing\"].sum()\n",
    "\n",
    "thursday_total = thursday_subset_intro_total + thursday_subset_verse1_total + thursday_subset_solo1_total + thursday_subset_solo2_total + thursday_subset_verse2_total + thursday_subset_outro_total + thursday_subset_compositing_total\n",
    "thursday_mean = round((thursday_total / 37), 2)\n"
   ]
  },
  {
   "cell_type": "code",
   "execution_count": 74,
   "id": "b035f9b9",
   "metadata": {},
   "outputs": [
    {
     "name": "stdout",
     "output_type": "stream",
     "text": [
      "date           37\n",
      "month          37\n",
      "week           37\n",
      "day            37\n",
      "intro          37\n",
      "verse1         37\n",
      "solo1          37\n",
      "solo2          37\n",
      "verse2         37\n",
      "outro          37\n",
      "compositing    37\n",
      "dtype: int64\n"
     ]
    }
   ],
   "source": [
    "friday_subset = pd[pd[\"day\"] == \"friday\"]\n",
    "print(friday_subset.count())\n",
    "\n",
    "friday_subset_intro_total = friday_subset[\"intro\"].sum()\n",
    "friday_subset_verse1_total = friday_subset[\"verse1\"].sum()\n",
    "friday_subset_solo1_total = friday_subset[\"solo1\"].sum()\n",
    "friday_subset_solo2_total = friday_subset[\"solo2\"].sum()\n",
    "friday_subset_verse2_total = friday_subset[\"verse2\"].sum()\n",
    "friday_subset_outro_total = friday_subset[\"outro\"].sum()\n",
    "friday_subset_compositing_total = friday_subset[\"compositing\"].sum()\n",
    "\n",
    "friday_total = friday_subset_intro_total + friday_subset_verse1_total + friday_subset_solo1_total + friday_subset_solo2_total + friday_subset_verse2_total + friday_subset_outro_total + friday_subset_compositing_total\n",
    "friday_mean = round((friday_total / 37), 2)\n"
   ]
  },
  {
   "cell_type": "code",
   "execution_count": 75,
   "id": "ee3c167a",
   "metadata": {},
   "outputs": [
    {
     "name": "stdout",
     "output_type": "stream",
     "text": [
      "date           38\n",
      "month          38\n",
      "week           38\n",
      "day            38\n",
      "intro          38\n",
      "verse1         38\n",
      "solo1          38\n",
      "solo2          38\n",
      "verse2         38\n",
      "outro          38\n",
      "compositing    38\n",
      "dtype: int64\n"
     ]
    }
   ],
   "source": [
    "saturday_subset = pd[pd[\"day\"] == \"saturday\"]\n",
    "print(saturday_subset.count())\n",
    "\n",
    "saturday_subset_intro_total = saturday_subset[\"intro\"].sum()\n",
    "saturday_subset_verse1_total = saturday_subset[\"verse1\"].sum()\n",
    "saturday_subset_solo1_total = saturday_subset[\"solo1\"].sum()\n",
    "saturday_subset_solo2_total = saturday_subset[\"solo2\"].sum()\n",
    "saturday_subset_verse2_total = saturday_subset[\"verse2\"].sum()\n",
    "saturday_subset_outro_total = saturday_subset[\"outro\"].sum()\n",
    "saturday_subset_compositing_total = saturday_subset[\"compositing\"].sum()\n",
    "\n",
    "saturday_total = saturday_subset_intro_total + saturday_subset_verse1_total + saturday_subset_solo1_total + saturday_subset_solo2_total + saturday_subset_verse2_total + saturday_subset_outro_total + saturday_subset_compositing_total\n",
    "saturday_mean = round((saturday_total / 38), 2)\n"
   ]
  },
  {
   "cell_type": "code",
   "execution_count": 76,
   "id": "e99cae82",
   "metadata": {
    "scrolled": true
   },
   "outputs": [
    {
     "data": {
      "image/png": "[encoded data removed]",
      "text/plain": [
       "<Figure size 640x480 with 1 Axes>"
      ]
     },
     "metadata": {},
     "output_type": "display_data"
    }
   ],
   "source": [
    "day = [\"Sunday\", \"Monday\", \"Tuesday\", \"Wednesday\", \"Thursday\", \"Friday\", \"Saturday\"]\n",
    "mean = [sunday_mean, monday_mean, tuesday_mean, wednesday_mean, thursday_mean, friday_mean, saturday_mean]\n",
    "\n",
    "fig, ax = plt.subplots()\n",
    "bars = ax.barh(day, mean)\n",
    "\n",
    "days = (\"Sunday\", \"Monday\", \"Tuesday\", \"Wednesday\", \"Thursday\", \"Friday\", \"Saturday\")\n",
    "y_pos = np.arange(len(days))\n",
    "hours = (sunday_mean, monday_mean, tuesday_mean, wednesday_mean, thursday_mean, friday_mean, saturday_mean)\n",
    "\n",
    "ax.barh(y_pos, hours, align = \"center\", color=\"#6757FA\")\n",
    "ax.bar_label(bars, label_type=\"center\", color=\"w\")\n",
    "ax.set_yticks(y_pos, labels = days)\n",
    "ax.invert_yaxis()\n",
    "ax.set_xlabel(\"Hours\")\n",
    "ax.set_title(\"Average Hours Worked Per Day\")\n",
    "plt.show()"
   ]
  },
  {
   "cell_type": "code",
   "execution_count": 77,
   "id": "dd517449",
   "metadata": {
    "scrolled": true
   },
   "outputs": [],
   "source": [
    "pd_line = pd\n",
    "pd_line[\"total\"] = pd_line[\"intro\"] + pd_line[\"verse1\"] + pd_line[\"solo1\"] + pd_line[\"solo2\"] + pd_line[\"verse2\"] + pd_line[\"outro\"]\n"
   ]
  },
  {
   "cell_type": "code",
   "execution_count": 78,
   "id": "9a39e980",
   "metadata": {
    "scrolled": false
   },
   "outputs": [
    {
     "ename": "KeyError",
     "evalue": "'week total'",
     "output_type": "error",
     "traceback": [
      "\u001b[1;31m---------------------------------------------------------------------------\u001b[0m",
      "\u001b[1;31mKeyError\u001b[0m                                  Traceback (most recent call last)",
      "\u001b[1;32m~\\anaconda3\\lib\\site-packages\\pandas\\core\\indexes\\base.py\u001b[0m in \u001b[0;36mget_loc\u001b[1;34m(self, key, method, tolerance)\u001b[0m\n\u001b[0;32m   3628\u001b[0m             \u001b[1;32mtry\u001b[0m\u001b[1;33m:\u001b[0m\u001b[1;33m\u001b[0m\u001b[1;33m\u001b[0m\u001b[0m\n\u001b[1;32m-> 3629\u001b[1;33m                 \u001b[1;32mreturn\u001b[0m \u001b[0mself\u001b[0m\u001b[1;33m.\u001b[0m\u001b[0m_engine\u001b[0m\u001b[1;33m.\u001b[0m\u001b[0mget_loc\u001b[0m\u001b[1;33m(\u001b[0m\u001b[0mcasted_key\u001b[0m\u001b[1;33m)\u001b[0m\u001b[1;33m\u001b[0m\u001b[1;33m\u001b[0m\u001b[0m\n\u001b[0m\u001b[0;32m   3630\u001b[0m             \u001b[1;32mexcept\u001b[0m \u001b[0mKeyError\u001b[0m \u001b[1;32mas\u001b[0m \u001b[0merr\u001b[0m\u001b[1;33m:\u001b[0m\u001b[1;33m\u001b[0m\u001b[1;33m\u001b[0m\u001b[0m\n",
      "\u001b[1;32m~\\anaconda3\\lib\\site-packages\\pandas\\_libs\\index.pyx\u001b[0m in \u001b[0;36mpandas._libs.index.IndexEngine.get_loc\u001b[1;34m()\u001b[0m\n",
      "\u001b[1;32m~\\anaconda3\\lib\\site-packages\\pandas\\_libs\\index.pyx\u001b[0m in \u001b[0;36mpandas._libs.index.IndexEngine.get_loc\u001b[1;34m()\u001b[0m\n",
      "\u001b[1;32mpandas\\_libs\\hashtable_class_helper.pxi\u001b[0m in \u001b[0;36mpandas._libs.hashtable.PyObjectHashTable.get_item\u001b[1;34m()\u001b[0m\n",
      "\u001b[1;32mpandas\\_libs\\hashtable_class_helper.pxi\u001b[0m in \u001b[0;36mpandas._libs.hashtable.PyObjectHashTable.get_item\u001b[1;34m()\u001b[0m\n",
      "\u001b[1;31mKeyError\u001b[0m: 'week total'",
      "\nThe above exception was the direct cause of the following exception:\n",
      "\u001b[1;31mKeyError\u001b[0m                                  Traceback (most recent call last)",
      "\u001b[1;32m~\\AppData\\Local\\Temp\\ipykernel_5608\\2478859799.py\u001b[0m in \u001b[0;36m<module>\u001b[1;34m\u001b[0m\n\u001b[0;32m      4\u001b[0m     \u001b[0mpd_week\u001b[0m\u001b[1;33m[\u001b[0m\u001b[1;34m\"week total\"\u001b[0m\u001b[1;33m]\u001b[0m \u001b[1;33m=\u001b[0m \u001b[0mpd_week\u001b[0m\u001b[1;33m[\u001b[0m\u001b[1;34m\"total\"\u001b[0m\u001b[1;33m]\u001b[0m\u001b[1;33m.\u001b[0m\u001b[0mgroupby\u001b[0m\u001b[1;33m(\u001b[0m\u001b[0mpd_week\u001b[0m\u001b[1;33m[\u001b[0m\u001b[1;34m\"week\"\u001b[0m\u001b[1;33m]\u001b[0m\u001b[1;33m)\u001b[0m\u001b[1;33m.\u001b[0m\u001b[0msum\u001b[0m\u001b[1;33m(\u001b[0m\u001b[1;33m)\u001b[0m\u001b[1;33m\u001b[0m\u001b[1;33m\u001b[0m\u001b[0m\n\u001b[0;32m      5\u001b[0m \u001b[1;33m\u001b[0m\u001b[0m\n\u001b[1;32m----> 6\u001b[1;33m \u001b[0mdf_weektotal\u001b[0m \u001b[1;33m=\u001b[0m \u001b[0mdf_weektotal\u001b[0m\u001b[1;33m[\u001b[0m\u001b[1;34m\"week total\"\u001b[0m\u001b[1;33m]\u001b[0m\u001b[1;33m.\u001b[0m\u001b[0mdropna\u001b[0m\u001b[1;33m(\u001b[0m\u001b[1;33m)\u001b[0m\u001b[1;33m\u001b[0m\u001b[1;33m\u001b[0m\u001b[0m\n\u001b[0m\u001b[0;32m      7\u001b[0m \u001b[0mdf_weektotal\u001b[0m\u001b[1;33m\u001b[0m\u001b[1;33m\u001b[0m\u001b[0m\n",
      "\u001b[1;32m~\\anaconda3\\lib\\site-packages\\pandas\\core\\frame.py\u001b[0m in \u001b[0;36m__getitem__\u001b[1;34m(self, key)\u001b[0m\n\u001b[0;32m   3503\u001b[0m             \u001b[1;32mif\u001b[0m \u001b[0mself\u001b[0m\u001b[1;33m.\u001b[0m\u001b[0mcolumns\u001b[0m\u001b[1;33m.\u001b[0m\u001b[0mnlevels\u001b[0m \u001b[1;33m>\u001b[0m \u001b[1;36m1\u001b[0m\u001b[1;33m:\u001b[0m\u001b[1;33m\u001b[0m\u001b[1;33m\u001b[0m\u001b[0m\n\u001b[0;32m   3504\u001b[0m                 \u001b[1;32mreturn\u001b[0m \u001b[0mself\u001b[0m\u001b[1;33m.\u001b[0m\u001b[0m_getitem_multilevel\u001b[0m\u001b[1;33m(\u001b[0m\u001b[0mkey\u001b[0m\u001b[1;33m)\u001b[0m\u001b[1;33m\u001b[0m\u001b[1;33m\u001b[0m\u001b[0m\n\u001b[1;32m-> 3505\u001b[1;33m             \u001b[0mindexer\u001b[0m \u001b[1;33m=\u001b[0m \u001b[0mself\u001b[0m\u001b[1;33m.\u001b[0m\u001b[0mcolumns\u001b[0m\u001b[1;33m.\u001b[0m\u001b[0mget_loc\u001b[0m\u001b[1;33m(\u001b[0m\u001b[0mkey\u001b[0m\u001b[1;33m)\u001b[0m\u001b[1;33m\u001b[0m\u001b[1;33m\u001b[0m\u001b[0m\n\u001b[0m\u001b[0;32m   3506\u001b[0m             \u001b[1;32mif\u001b[0m \u001b[0mis_integer\u001b[0m\u001b[1;33m(\u001b[0m\u001b[0mindexer\u001b[0m\u001b[1;33m)\u001b[0m\u001b[1;33m:\u001b[0m\u001b[1;33m\u001b[0m\u001b[1;33m\u001b[0m\u001b[0m\n\u001b[0;32m   3507\u001b[0m                 \u001b[0mindexer\u001b[0m \u001b[1;33m=\u001b[0m \u001b[1;33m[\u001b[0m\u001b[0mindexer\u001b[0m\u001b[1;33m]\u001b[0m\u001b[1;33m\u001b[0m\u001b[1;33m\u001b[0m\u001b[0m\n",
      "\u001b[1;32m~\\anaconda3\\lib\\site-packages\\pandas\\core\\indexes\\base.py\u001b[0m in \u001b[0;36mget_loc\u001b[1;34m(self, key, method, tolerance)\u001b[0m\n\u001b[0;32m   3629\u001b[0m                 \u001b[1;32mreturn\u001b[0m \u001b[0mself\u001b[0m\u001b[1;33m.\u001b[0m\u001b[0m_engine\u001b[0m\u001b[1;33m.\u001b[0m\u001b[0mget_loc\u001b[0m\u001b[1;33m(\u001b[0m\u001b[0mcasted_key\u001b[0m\u001b[1;33m)\u001b[0m\u001b[1;33m\u001b[0m\u001b[1;33m\u001b[0m\u001b[0m\n\u001b[0;32m   3630\u001b[0m             \u001b[1;32mexcept\u001b[0m \u001b[0mKeyError\u001b[0m \u001b[1;32mas\u001b[0m \u001b[0merr\u001b[0m\u001b[1;33m:\u001b[0m\u001b[1;33m\u001b[0m\u001b[1;33m\u001b[0m\u001b[0m\n\u001b[1;32m-> 3631\u001b[1;33m                 \u001b[1;32mraise\u001b[0m \u001b[0mKeyError\u001b[0m\u001b[1;33m(\u001b[0m\u001b[0mkey\u001b[0m\u001b[1;33m)\u001b[0m \u001b[1;32mfrom\u001b[0m \u001b[0merr\u001b[0m\u001b[1;33m\u001b[0m\u001b[1;33m\u001b[0m\u001b[0m\n\u001b[0m\u001b[0;32m   3632\u001b[0m             \u001b[1;32mexcept\u001b[0m \u001b[0mTypeError\u001b[0m\u001b[1;33m:\u001b[0m\u001b[1;33m\u001b[0m\u001b[1;33m\u001b[0m\u001b[0m\n\u001b[0;32m   3633\u001b[0m                 \u001b[1;31m# If we have a listlike key, _check_indexing_error will raise\u001b[0m\u001b[1;33m\u001b[0m\u001b[1;33m\u001b[0m\u001b[0m\n",
      "\u001b[1;31mKeyError\u001b[0m: 'week total'"
     ]
    }
   ],
   "source": [
    "df_weektotal = pd_line\n",
    "\n",
    "for week in pd_line:\n",
    "    pd_week[\"week total\"] = pd_week[\"total\"].groupby(pd_week[\"week\"]).sum()\n",
    "    \n",
    "df_weektotal = df_weektotal[\"week total\"].dropna()\n",
    "df_weektotal"
   ]
  },
  {
   "cell_type": "code",
   "execution_count": 79,
   "id": "456dc571",
   "metadata": {
    "scrolled": false
   },
   "outputs": [
    {
     "ename": "ValueError",
     "evalue": "could not convert string to float: 'date'",
     "output_type": "error",
     "traceback": [
      "\u001b[1;31m---------------------------------------------------------------------------\u001b[0m",
      "\u001b[1;31mValueError\u001b[0m                                Traceback (most recent call last)",
      "\u001b[1;32m~\\AppData\\Local\\Temp\\ipykernel_5608\\3012922370.py\u001b[0m in \u001b[0;36m<module>\u001b[1;34m\u001b[0m\n\u001b[0;32m     10\u001b[0m \u001b[0mtotal_xnew\u001b[0m \u001b[1;33m=\u001b[0m \u001b[0mnp\u001b[0m\u001b[1;33m.\u001b[0m\u001b[0mlinspace\u001b[0m\u001b[1;33m(\u001b[0m\u001b[0marr_total_x\u001b[0m\u001b[1;33m.\u001b[0m\u001b[0mmin\u001b[0m\u001b[1;33m(\u001b[0m\u001b[1;33m)\u001b[0m\u001b[1;33m,\u001b[0m \u001b[0marr_total_x\u001b[0m\u001b[1;33m.\u001b[0m\u001b[0mmax\u001b[0m\u001b[1;33m(\u001b[0m\u001b[1;33m)\u001b[0m\u001b[1;33m,\u001b[0m \u001b[1;36m200\u001b[0m\u001b[1;33m)\u001b[0m\u001b[1;33m\u001b[0m\u001b[1;33m\u001b[0m\u001b[0m\n\u001b[0;32m     11\u001b[0m \u001b[1;33m\u001b[0m\u001b[0m\n\u001b[1;32m---> 12\u001b[1;33m \u001b[0mspl\u001b[0m \u001b[1;33m=\u001b[0m \u001b[0mmake_interp_spline\u001b[0m\u001b[1;33m(\u001b[0m\u001b[0marr_total_x\u001b[0m\u001b[1;33m,\u001b[0m \u001b[0marr_total_y\u001b[0m\u001b[1;33m,\u001b[0m \u001b[0mk\u001b[0m\u001b[1;33m=\u001b[0m\u001b[1;36m3\u001b[0m\u001b[1;33m)\u001b[0m\u001b[1;33m\u001b[0m\u001b[1;33m\u001b[0m\u001b[0m\n\u001b[0m\u001b[0;32m     13\u001b[0m \u001b[0mtotal_y_smooth\u001b[0m \u001b[1;33m=\u001b[0m \u001b[0mspl\u001b[0m\u001b[1;33m(\u001b[0m\u001b[0mtotal_xnew\u001b[0m\u001b[1;33m)\u001b[0m\u001b[1;33m\u001b[0m\u001b[1;33m\u001b[0m\u001b[0m\n\u001b[0;32m     14\u001b[0m \u001b[1;33m\u001b[0m\u001b[0m\n",
      "\u001b[1;32m~\\anaconda3\\lib\\site-packages\\scipy\\interpolate\\_bsplines.py\u001b[0m in \u001b[0;36mmake_interp_spline\u001b[1;34m(x, y, k, t, bc_type, axis, check_finite)\u001b[0m\n\u001b[0;32m   1238\u001b[0m \u001b[1;33m\u001b[0m\u001b[0m\n\u001b[0;32m   1239\u001b[0m     \u001b[0mx\u001b[0m \u001b[1;33m=\u001b[0m \u001b[0m_as_float_array\u001b[0m\u001b[1;33m(\u001b[0m\u001b[0mx\u001b[0m\u001b[1;33m,\u001b[0m \u001b[0mcheck_finite\u001b[0m\u001b[1;33m)\u001b[0m\u001b[1;33m\u001b[0m\u001b[1;33m\u001b[0m\u001b[0m\n\u001b[1;32m-> 1240\u001b[1;33m     \u001b[0my\u001b[0m \u001b[1;33m=\u001b[0m \u001b[0m_as_float_array\u001b[0m\u001b[1;33m(\u001b[0m\u001b[0my\u001b[0m\u001b[1;33m,\u001b[0m \u001b[0mcheck_finite\u001b[0m\u001b[1;33m)\u001b[0m\u001b[1;33m\u001b[0m\u001b[1;33m\u001b[0m\u001b[0m\n\u001b[0m\u001b[0;32m   1241\u001b[0m \u001b[1;33m\u001b[0m\u001b[0m\n\u001b[0;32m   1242\u001b[0m     \u001b[0my\u001b[0m \u001b[1;33m=\u001b[0m \u001b[0mnp\u001b[0m\u001b[1;33m.\u001b[0m\u001b[0mmoveaxis\u001b[0m\u001b[1;33m(\u001b[0m\u001b[0my\u001b[0m\u001b[1;33m,\u001b[0m \u001b[0maxis\u001b[0m\u001b[1;33m,\u001b[0m \u001b[1;36m0\u001b[0m\u001b[1;33m)\u001b[0m    \u001b[1;31m# now internally interp axis is zero\u001b[0m\u001b[1;33m\u001b[0m\u001b[1;33m\u001b[0m\u001b[0m\n",
      "\u001b[1;32m~\\anaconda3\\lib\\site-packages\\scipy\\interpolate\\_bsplines.py\u001b[0m in \u001b[0;36m_as_float_array\u001b[1;34m(x, check_finite)\u001b[0m\n\u001b[0;32m     32\u001b[0m     \u001b[0mx\u001b[0m \u001b[1;33m=\u001b[0m \u001b[0mnp\u001b[0m\u001b[1;33m.\u001b[0m\u001b[0mascontiguousarray\u001b[0m\u001b[1;33m(\u001b[0m\u001b[0mx\u001b[0m\u001b[1;33m)\u001b[0m\u001b[1;33m\u001b[0m\u001b[1;33m\u001b[0m\u001b[0m\n\u001b[0;32m     33\u001b[0m     \u001b[0mdtyp\u001b[0m \u001b[1;33m=\u001b[0m \u001b[0m_get_dtype\u001b[0m\u001b[1;33m(\u001b[0m\u001b[0mx\u001b[0m\u001b[1;33m.\u001b[0m\u001b[0mdtype\u001b[0m\u001b[1;33m)\u001b[0m\u001b[1;33m\u001b[0m\u001b[1;33m\u001b[0m\u001b[0m\n\u001b[1;32m---> 34\u001b[1;33m     \u001b[0mx\u001b[0m \u001b[1;33m=\u001b[0m \u001b[0mx\u001b[0m\u001b[1;33m.\u001b[0m\u001b[0mastype\u001b[0m\u001b[1;33m(\u001b[0m\u001b[0mdtyp\u001b[0m\u001b[1;33m,\u001b[0m \u001b[0mcopy\u001b[0m\u001b[1;33m=\u001b[0m\u001b[1;32mFalse\u001b[0m\u001b[1;33m)\u001b[0m\u001b[1;33m\u001b[0m\u001b[1;33m\u001b[0m\u001b[0m\n\u001b[0m\u001b[0;32m     35\u001b[0m     \u001b[1;32mif\u001b[0m \u001b[0mcheck_finite\u001b[0m \u001b[1;32mand\u001b[0m \u001b[1;32mnot\u001b[0m \u001b[0mnp\u001b[0m\u001b[1;33m.\u001b[0m\u001b[0misfinite\u001b[0m\u001b[1;33m(\u001b[0m\u001b[0mx\u001b[0m\u001b[1;33m)\u001b[0m\u001b[1;33m.\u001b[0m\u001b[0mall\u001b[0m\u001b[1;33m(\u001b[0m\u001b[1;33m)\u001b[0m\u001b[1;33m:\u001b[0m\u001b[1;33m\u001b[0m\u001b[1;33m\u001b[0m\u001b[0m\n\u001b[0;32m     36\u001b[0m         \u001b[1;32mraise\u001b[0m \u001b[0mValueError\u001b[0m\u001b[1;33m(\u001b[0m\u001b[1;34m\"Array must not contain infs or nans.\"\u001b[0m\u001b[1;33m)\u001b[0m\u001b[1;33m\u001b[0m\u001b[1;33m\u001b[0m\u001b[0m\n",
      "\u001b[1;31mValueError\u001b[0m: could not convert string to float: 'date'"
     ]
    }
   ],
   "source": [
    "total_x = list(range(1, 40))\n",
    "total_y = []\n",
    "\n",
    "for i in df_weektotal:\n",
    "    total_y.append(i)\n",
    "    \n",
    "arr_total_x = np.array(total_x)\n",
    "arr_total_y = np.array(total_y)\n",
    "\n",
    "total_xnew = np.linspace(arr_total_x.min(), arr_total_x.max(), 200) \n",
    "\n",
    "spl = make_interp_spline(arr_total_x, arr_total_y, k=3)\n",
    "total_y_smooth = spl(total_xnew)\n",
    "\n",
    "font = {\n",
    "    \"size\": 8\n",
    "}\n",
    "\n",
    "plt.text(1.8, 32, \" Classes\", fontdict = font)\n",
    "plt.axvspan(0, 6, color='gray', alpha=0.5)\n",
    "\n",
    "plt.text(14.9, 32, \"Vacation\", fontdict = font)\n",
    "plt.axvspan(13.5, 18.5, color='gray', alpha=0.5)\n",
    "\n",
    "plt.text(31.5, 32, \"Classes\", fontdict = font)\n",
    "plt.axvspan(25, 40, color='gray', alpha=0.5)\n",
    "\n",
    "plt.ylabel(\"Hours Worked\")\n",
    "plt.xlabel(\"Week # (April-December)\")\n",
    "plt.title(\"Total Overall Hours Worked Per Week\")\n",
    "\n",
    "plt.plot(total_xnew, total_y_smooth)\n",
    "plt.figure(figsize=(40, 10))"
   ]
  },
  {
   "cell_type": "code",
   "execution_count": 107,
   "id": "953c75c2",
   "metadata": {
    "scrolled": true
   },
   "outputs": [
    {
     "name": "stdout",
     "output_type": "stream",
     "text": [
      "[6.0, 19.0, 5.0, 6.0, 0.0, 0.0, 0.0, 0.0, 0.0, 0.0, 0.0, 0.0, 0.0, 0.0, 0.0, 0.0, 0.0, 0.0, 0.0, 0.5, 0.0, 0.0, 0.0, 0.0, 0.0, 0.0, 0.0, 0.0, 0.0, 0.0, 0.0, 0.0, 0.0, 0.5, 0.0, 0.0, 0.0, 0.0, 0.0]\n"
     ]
    }
   ],
   "source": [
    "# Weekly Totals for Each Section\n",
    "\n",
    "pd_line\n",
    "pd_line[\"intro week total\"] = pd_line[\"intro\"]\n",
    "pd_line[\"verse1 week total\"] = pd_line[\"verse1\"]\n",
    "pd_line[\"solo total\"] = pd_line[\"solo1\"] + pd_line[\"solo2\"]\n",
    "pd_line[\"verse2 week total\"] = pd_line[\"verse2\"]\n",
    "pd_line[\"outro week total\"] = pd_line[\"outro\"]\n",
    "pd_line[\"compositing week total\"] = pd_line[\"compositing\"]\n",
    "pd_line\n",
    "\n",
    "df_weektotal = pd_line\n",
    "\n",
    "for week in df_weektotal:\n",
    "    df_weektotal[\"intro week total\"] = df_weektotal[\"intro\"].groupby(df_weektotal[\"week\"]).sum()\n",
    "    df_weektotal[\"verse1 week total\"] = df_weektotal[\"verse1\"].groupby(df_weektotal[\"week\"]).sum()\n",
    "    df_weektotal[\"solo week total\"] = df_weektotal[\"solo total\"].groupby(df_weektotal[\"week\"]).sum()\n",
    "    df_weektotal[\"verse2 week total\"] = df_weektotal[\"verse2\"].groupby(df_weektotal[\"week\"]).sum()\n",
    "    df_weektotal[\"outro week total\"] = df_weektotal[\"outro\"].groupby(df_weektotal[\"week\"]).sum()\n",
    "    df_weektotal[\"compositing week total\"] = df_weektotal[\"compositing\"].groupby(df_weektotal[\"week\"]).sum()\n",
    "    \n",
    "df_weektotal = df_weektotal.dropna()\n",
    "\n",
    "intro_x = list(range(1, 40))\n",
    "intro_y = []\n",
    "verse1_x = list(range(1, 40))\n",
    "verse1_y = []\n",
    "solo_x = list(range(1, 40))\n",
    "solo_y = []\n",
    "verse2_x = list(range(1, 40))\n",
    "verse2_y = []\n",
    "outro_x = list(range(1, 40))\n",
    "outro_y = []\n",
    "compositing_x = list(range(1, 40))\n",
    "compositing_y = []\n",
    "\n",
    "for i in df_weektotal[\"intro week total\"]:\n",
    "    intro_y.append(i)\n",
    "    \n",
    "for i in df_weektotal[\"verse1 week total\"]:\n",
    "    verse1_y.append(i)\n",
    "    \n",
    "for i in df_weektotal[\"solo week total\"]:\n",
    "    solo_y.append(i)\n",
    "    \n",
    "for i in df_weektotal[\"verse2 week total\"]:\n",
    "    verse2_y.append(i)\n",
    "    \n",
    "for i in df_weektotal[\"outro week total\"]:\n",
    "    outro_y.append(i)\n",
    "    \n",
    "for i in df_weektotal[\"compositing week total\"]:\n",
    "    compositing_y.append(i)\n",
    "    \n",
    "print(intro_y)\n",
    "    \n",
    "arr_intro_x = np.array(intro_x)\n",
    "arr_intro_y = np.array(intro_y)\n",
    "arr_verse1_x = np.array(verse1_x)\n",
    "arr_verse1_y = np.array(verse1_y)\n",
    "arr_solo_x = np.array(solo_x)\n",
    "arr_solo_y = np.array(solo_y)\n",
    "arr_verse2_x = np.array(verse2_x)\n",
    "arr_verse2_y = np.array(verse2_y)\n",
    "arr_outro_x = np.array(outro_x)\n",
    "arr_outro_y = np.array(outro_y)\n",
    "arr_compositing_x = np.array(compositing_x)\n",
    "arr_compositing_y = np.array(compositing_y)\n",
    "\n",
    "intro_xnew = np.linspace(arr_intro_x.min(), arr_intro_x.max(), 200) \n",
    "spl = make_interp_spline(arr_intro_x, arr_intro_y, k=2)\n",
    "intro_y_smooth = spl(intro_xnew)\n",
    "\n",
    "verse1_xnew = np.linspace(arr_verse1_x.min(), arr_verse1_x.max(), 200) \n",
    "spl = make_interp_spline(arr_verse1_x, arr_verse1_y, k=2)\n",
    "verse1_y_smooth = spl(verse1_xnew)\n",
    "\n",
    "solo_xnew = np.linspace(arr_solo_x.min(), arr_solo_x.max(), 200) \n",
    "spl = make_interp_spline(arr_solo_x, arr_solo_y, k=2)\n",
    "solo_y_smooth = spl(solo_xnew)\n",
    "\n",
    "verse2_xnew = np.linspace(arr_verse2_x.min(), arr_verse2_x.max(), 200) \n",
    "spl = make_interp_spline(arr_verse2_x, arr_verse2_y, k=2)\n",
    "verse2_y_smooth = spl(verse2_xnew)\n",
    "\n",
    "outro_xnew = np.linspace(arr_outro_x.min(), arr_outro_x.max(), 200) \n",
    "spl = make_interp_spline(arr_outro_x, arr_outro_y, k=2)\n",
    "outro_y_smooth = spl(outro_xnew)\n",
    "\n",
    "compositing_xnew = np.linspace(arr_compositing_x.min(), arr_compositing_x.max(), 200) \n",
    "spl = make_interp_spline(arr_compositing_x, arr_compositing_y, k=2)\n",
    "compositing_y_smooth = spl(compositing_xnew)"
   ]
  },
  {
   "cell_type": "code",
   "execution_count": 110,
   "id": "76cd9ef9",
   "metadata": {
    "scrolled": true
   },
   "outputs": [
    {
     "data": {
      "image/png": "[encoded data removed]",
      "text/plain": [
       "<Figure size 640x480 with 1 Axes>"
      ]
     },
     "metadata": {},
     "output_type": "display_data"
    },
    {
     "data": {
      "text/plain": [
       "<Figure size 4000x1000 with 0 Axes>"
      ]
     },
     "metadata": {},
     "output_type": "display_data"
    }
   ],
   "source": [
    "# Plotting Sections Over Year\n",
    "\n",
    "plt.text(1.8, 32, \" Classes\", fontdict = font)\n",
    "plt.axvspan(0, 6, color='gray', alpha=0.5)\n",
    "\n",
    "plt.text(14.9, 32, \"Vacation\", fontdict = font)\n",
    "plt.axvspan(13.5, 18.5, color='gray', alpha=0.5)\n",
    "\n",
    "plt.text(31.5, 32, \"Classes\", fontdict = font)\n",
    "plt.axvspan(25, 40, color='gray', alpha=0.5)\n",
    "\n",
    "plt.ylabel(\"Hours Worked\")\n",
    "plt.xlabel(\"Week # (April-December)\")\n",
    "plt.title(\"Total Overall Hours Worked Per Week\")\n",
    "\n",
    "plt.plot(intro_xnew, intro_y_smooth, label = \"Intro\")\n",
    "plt.plot(verse1_xnew, verse1_y_smooth, label = \"Verse 1\")\n",
    "plt.plot(solo_xnew, solo_y_smooth, label = \"Gtr Solo\")\n",
    "plt.plot(verse2_xnew, verse2_y_smooth, label = \"Verse 2\")\n",
    "plt.plot(outro_xnew, outro_y_smooth, label = \"Outro\")\n",
    "plt.plot(compositing_xnew, compositing_y_smooth, label = \"Compositing\")\n",
    "plt.legend(bbox_to_anchor=(1.02, 0.35), loc='upper left', borderaxespad=0)\n",
    "plt.figure(figsize=(40, 10))\n",
    "plt.show()"
   ]
  },
  {
   "cell_type": "code",
   "execution_count": 73,
   "id": "00bad6a4",
   "metadata": {},
   "outputs": [
    {
     "data": {
      "image/png": "[encoded data removed]",
      "text/plain": [
       "<Figure size 700x500 with 1 Axes>"
      ]
     },
     "metadata": {},
     "output_type": "display_data"
    }
   ],
   "source": [
    "sections = [intro_total, verse1_total, solo_total, verse2_total, outro_total, compositing_total]\n",
    "labels = [\"Intro - 47 hours\", \"Verse 1 - 340 hours\", \"Gtr Solo - 313 hours\", \"Verse 2 - 162 hours\", \"Outro - 24 hours\", \"Compositing - 14 hours\"]\n",
    "\n",
    "fig, ax = plt.subplots(figsize=(7, 5))\n",
    "\n",
    "def func(pct, allvals):\n",
    "    absolute = int(np.round(pct/100.*np.sum(allvals)))\n",
    "    return f\"{pct:.1f}%\"\n",
    "\n",
    "wedges, texts, autotexts = ax.pie(sections, autopct = lambda pct: func(pct, sections), textprops = dict(color = \"w\"))\n",
    "ax.legend(wedges, labels, title = \"Section\", loc = \"center left\", bbox_to_anchor = (1, 0, 0.5, 1))\n",
    "plt.setp(autotexts, size = 10, weight = \"bold\")\n",
    "ax.set_title(\"Breakdown of Hours Per Song Section\")\n",
    "\n",
    "plt.show()"
   ]
  },
  {
   "cell_type": "code",
   "execution_count": null,
   "id": "08e57d53",
   "metadata": {},
   "outputs": [],
   "source": []
  }
 ],
 "metadata": {
  "kernelspec": {
   "display_name": "Python 3 (ipykernel)",
   "language": "python",
   "name": "python3"
  },
  "language_info": {
   "codemirror_mode": {
    "name": "ipython",
    "version": 3
   },
   "file_extension": ".py",
   "mimetype": "text/x-python",
   "name": "python",
   "nbconvert_exporter": "python",
   "pygments_lexer": "ipython3",
   "version": "3.9.13"
  }
 },
 "nbformat": 4,
 "nbformat_minor": 5
}
