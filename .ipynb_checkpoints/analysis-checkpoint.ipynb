{
 "cells": [
  {
   "cell_type": "code",
   "execution_count": 1,
   "id": "c6548f1f",
   "metadata": {},
   "outputs": [],
   "source": [
    "import matplotlib.pyplot as plt\n",
    "import numpy as np\n",
    "import pandas as pd"
   ]
  },
  {
   "cell_type": "code",
   "execution_count": 2,
   "id": "e6f657f7",
   "metadata": {
    "scrolled": false
   },
   "outputs": [
    {
     "data": {
      "text/html": [
       "<div>\n",
       "<style scoped>\n",
       "    .dataframe tbody tr th:only-of-type {\n",
       "        vertical-align: middle;\n",
       "    }\n",
       "\n",
       "    .dataframe tbody tr th {\n",
       "        vertical-align: top;\n",
       "    }\n",
       "\n",
       "    .dataframe thead th {\n",
       "        text-align: right;\n",
       "    }\n",
       "</style>\n",
       "<table border=\"1\" class=\"dataframe\">\n",
       "  <thead>\n",
       "    <tr style=\"text-align: right;\">\n",
       "      <th></th>\n",
       "      <th>date</th>\n",
       "      <th>month</th>\n",
       "      <th>week</th>\n",
       "      <th>day</th>\n",
       "      <th>intro</th>\n",
       "      <th>verse1</th>\n",
       "      <th>solo1</th>\n",
       "      <th>solo2</th>\n",
       "      <th>verse2</th>\n",
       "      <th>outro</th>\n",
       "      <th>compositing</th>\n",
       "    </tr>\n",
       "  </thead>\n",
       "  <tbody>\n",
       "    <tr>\n",
       "      <th>0</th>\n",
       "      <td>4/1</td>\n",
       "      <td>april</td>\n",
       "      <td>1</td>\n",
       "      <td>saturday</td>\n",
       "      <td>6.0</td>\n",
       "      <td>0.0</td>\n",
       "      <td>0.0</td>\n",
       "      <td>0.0</td>\n",
       "      <td>2.0</td>\n",
       "      <td>0.0</td>\n",
       "      <td>0.0</td>\n",
       "    </tr>\n",
       "    <tr>\n",
       "      <th>1</th>\n",
       "      <td>4/2</td>\n",
       "      <td>april</td>\n",
       "      <td>2</td>\n",
       "      <td>sunday</td>\n",
       "      <td>4.0</td>\n",
       "      <td>0.0</td>\n",
       "      <td>0.0</td>\n",
       "      <td>0.0</td>\n",
       "      <td>0.0</td>\n",
       "      <td>0.0</td>\n",
       "      <td>0.0</td>\n",
       "    </tr>\n",
       "    <tr>\n",
       "      <th>2</th>\n",
       "      <td>4/3</td>\n",
       "      <td>april</td>\n",
       "      <td>2</td>\n",
       "      <td>monday</td>\n",
       "      <td>4.5</td>\n",
       "      <td>0.0</td>\n",
       "      <td>0.0</td>\n",
       "      <td>0.0</td>\n",
       "      <td>0.0</td>\n",
       "      <td>0.0</td>\n",
       "      <td>0.0</td>\n",
       "    </tr>\n",
       "    <tr>\n",
       "      <th>3</th>\n",
       "      <td>4/4</td>\n",
       "      <td>april</td>\n",
       "      <td>2</td>\n",
       "      <td>tuesday</td>\n",
       "      <td>4.0</td>\n",
       "      <td>0.0</td>\n",
       "      <td>0.0</td>\n",
       "      <td>0.0</td>\n",
       "      <td>0.0</td>\n",
       "      <td>0.0</td>\n",
       "      <td>0.0</td>\n",
       "    </tr>\n",
       "    <tr>\n",
       "      <th>4</th>\n",
       "      <td>4/5</td>\n",
       "      <td>april</td>\n",
       "      <td>2</td>\n",
       "      <td>wednesday</td>\n",
       "      <td>3.5</td>\n",
       "      <td>0.0</td>\n",
       "      <td>0.0</td>\n",
       "      <td>0.0</td>\n",
       "      <td>0.0</td>\n",
       "      <td>0.0</td>\n",
       "      <td>0.0</td>\n",
       "    </tr>\n",
       "    <tr>\n",
       "      <th>...</th>\n",
       "      <td>...</td>\n",
       "      <td>...</td>\n",
       "      <td>...</td>\n",
       "      <td>...</td>\n",
       "      <td>...</td>\n",
       "      <td>...</td>\n",
       "      <td>...</td>\n",
       "      <td>...</td>\n",
       "      <td>...</td>\n",
       "      <td>...</td>\n",
       "      <td>...</td>\n",
       "    </tr>\n",
       "    <tr>\n",
       "      <th>259</th>\n",
       "      <td>12/16</td>\n",
       "      <td>december</td>\n",
       "      <td>38</td>\n",
       "      <td>saturday</td>\n",
       "      <td>0.0</td>\n",
       "      <td>0.0</td>\n",
       "      <td>0.0</td>\n",
       "      <td>0.0</td>\n",
       "      <td>1.5</td>\n",
       "      <td>0.0</td>\n",
       "      <td>1.0</td>\n",
       "    </tr>\n",
       "    <tr>\n",
       "      <th>260</th>\n",
       "      <td>12/17</td>\n",
       "      <td>december</td>\n",
       "      <td>39</td>\n",
       "      <td>sunday</td>\n",
       "      <td>0.0</td>\n",
       "      <td>0.0</td>\n",
       "      <td>0.0</td>\n",
       "      <td>0.0</td>\n",
       "      <td>1.5</td>\n",
       "      <td>0.0</td>\n",
       "      <td>3.5</td>\n",
       "    </tr>\n",
       "    <tr>\n",
       "      <th>261</th>\n",
       "      <td>12/18</td>\n",
       "      <td>december</td>\n",
       "      <td>39</td>\n",
       "      <td>monday</td>\n",
       "      <td>0.0</td>\n",
       "      <td>3.5</td>\n",
       "      <td>0.0</td>\n",
       "      <td>0.0</td>\n",
       "      <td>0.0</td>\n",
       "      <td>0.0</td>\n",
       "      <td>0.0</td>\n",
       "    </tr>\n",
       "    <tr>\n",
       "      <th>262</th>\n",
       "      <td>12/19</td>\n",
       "      <td>december</td>\n",
       "      <td>39</td>\n",
       "      <td>tuesday</td>\n",
       "      <td>0.0</td>\n",
       "      <td>1.5</td>\n",
       "      <td>0.0</td>\n",
       "      <td>0.0</td>\n",
       "      <td>0.0</td>\n",
       "      <td>0.0</td>\n",
       "      <td>0.0</td>\n",
       "    </tr>\n",
       "    <tr>\n",
       "      <th>263</th>\n",
       "      <td>12/20</td>\n",
       "      <td>december</td>\n",
       "      <td>39</td>\n",
       "      <td>wednesday</td>\n",
       "      <td>0.0</td>\n",
       "      <td>0.5</td>\n",
       "      <td>0.0</td>\n",
       "      <td>0.0</td>\n",
       "      <td>0.0</td>\n",
       "      <td>0.0</td>\n",
       "      <td>0.0</td>\n",
       "    </tr>\n",
       "  </tbody>\n",
       "</table>\n",
       "<p>264 rows × 11 columns</p>\n",
       "</div>"
      ],
      "text/plain": [
       "      date     month  week        day  intro  verse1  solo1  solo2  verse2  \\\n",
       "0      4/1     april     1   saturday    6.0     0.0    0.0    0.0     2.0   \n",
       "1      4/2     april     2     sunday    4.0     0.0    0.0    0.0     0.0   \n",
       "2      4/3     april     2     monday    4.5     0.0    0.0    0.0     0.0   \n",
       "3      4/4     april     2    tuesday    4.0     0.0    0.0    0.0     0.0   \n",
       "4      4/5     april     2  wednesday    3.5     0.0    0.0    0.0     0.0   \n",
       "..     ...       ...   ...        ...    ...     ...    ...    ...     ...   \n",
       "259  12/16  december    38   saturday    0.0     0.0    0.0    0.0     1.5   \n",
       "260  12/17  december    39     sunday    0.0     0.0    0.0    0.0     1.5   \n",
       "261  12/18  december    39     monday    0.0     3.5    0.0    0.0     0.0   \n",
       "262  12/19  december    39    tuesday    0.0     1.5    0.0    0.0     0.0   \n",
       "263  12/20  december    39  wednesday    0.0     0.5    0.0    0.0     0.0   \n",
       "\n",
       "     outro  compositing  \n",
       "0      0.0          0.0  \n",
       "1      0.0          0.0  \n",
       "2      0.0          0.0  \n",
       "3      0.0          0.0  \n",
       "4      0.0          0.0  \n",
       "..     ...          ...  \n",
       "259    0.0          1.0  \n",
       "260    0.0          3.5  \n",
       "261    0.0          0.0  \n",
       "262    0.0          0.0  \n",
       "263    0.0          0.0  \n",
       "\n",
       "[264 rows x 11 columns]"
      ]
     },
     "execution_count": 2,
     "metadata": {},
     "output_type": "execute_result"
    }
   ],
   "source": [
    "pd = pd.read_csv(\"hours.csv\")\n",
    "pd"
   ]
  },
  {
   "cell_type": "code",
   "execution_count": 3,
   "id": "74ebd4ab",
   "metadata": {},
   "outputs": [
    {
     "data": {
      "text/plain": [
       "date           0\n",
       "month          0\n",
       "week           0\n",
       "day            0\n",
       "intro          0\n",
       "verse1         0\n",
       "solo1          0\n",
       "solo2          0\n",
       "verse2         0\n",
       "outro          0\n",
       "compositing    0\n",
       "dtype: int64"
      ]
     },
     "execution_count": 3,
     "metadata": {},
     "output_type": "execute_result"
    }
   ],
   "source": [
    "pd_subset = pd.isnull().sum()\n",
    "pd_subset"
   ]
  },
  {
   "cell_type": "code",
   "execution_count": 46,
   "id": "9166804f",
   "metadata": {},
   "outputs": [
    {
     "data": {
      "text/plain": [
       "47.0"
      ]
     },
     "execution_count": 46,
     "metadata": {},
     "output_type": "execute_result"
    }
   ],
   "source": [
    "intro_total = pd[\"intro\"].sum()\n",
    "est_intro_previous = 10\n",
    "intro_total = intro_total + est_intro_previous\n",
    "intro_total"
   ]
  },
  {
   "cell_type": "code",
   "execution_count": 47,
   "id": "3ee29dca",
   "metadata": {},
   "outputs": [
    {
     "data": {
      "text/plain": [
       "340.0"
      ]
     },
     "execution_count": 47,
     "metadata": {},
     "output_type": "execute_result"
    }
   ],
   "source": [
    "verse1_total = pd[\"verse1\"].sum()\n",
    "verse1_total"
   ]
  },
  {
   "cell_type": "code",
   "execution_count": 48,
   "id": "72ba19dd",
   "metadata": {},
   "outputs": [
    {
     "data": {
      "text/plain": [
       "87.0"
      ]
     },
     "execution_count": 48,
     "metadata": {},
     "output_type": "execute_result"
    }
   ],
   "source": [
    "solo1_total = pd[\"solo1\"].sum()\n",
    "solo1_total"
   ]
  },
  {
   "cell_type": "code",
   "execution_count": 49,
   "id": "833e69e2",
   "metadata": {
    "scrolled": true
   },
   "outputs": [
    {
     "data": {
      "text/plain": [
       "26.5"
      ]
     },
     "execution_count": 49,
     "metadata": {},
     "output_type": "execute_result"
    }
   ],
   "source": [
    "solo2_total = pd[\"solo2\"].sum()\n",
    "solo2_total"
   ]
  },
  {
   "cell_type": "code",
   "execution_count": 50,
   "id": "f3f50dca",
   "metadata": {},
   "outputs": [],
   "source": [
    "est_solo_previous = 155"
   ]
  },
  {
   "cell_type": "code",
   "execution_count": 51,
   "id": "55ab2cc1",
   "metadata": {},
   "outputs": [
    {
     "data": {
      "text/plain": [
       "268.5"
      ]
     },
     "execution_count": 51,
     "metadata": {},
     "output_type": "execute_result"
    }
   ],
   "source": [
    "solo_total = solo1_total + solo2_total + est_solo_previous\n",
    "solo_total"
   ]
  },
  {
   "cell_type": "code",
   "execution_count": 52,
   "id": "18fa7979",
   "metadata": {},
   "outputs": [
    {
     "data": {
      "text/plain": [
       "157.5"
      ]
     },
     "execution_count": 52,
     "metadata": {},
     "output_type": "execute_result"
    }
   ],
   "source": [
    "verse2_total = pd[\"verse2\"].sum()\n",
    "est_verse2_previous = 10\n",
    "verse2_total = verse2_total + est_verse2_previous\n",
    "verse2_total"
   ]
  },
  {
   "cell_type": "code",
   "execution_count": 53,
   "id": "28ab8e3b",
   "metadata": {},
   "outputs": [
    {
     "data": {
      "text/plain": [
       "23.5"
      ]
     },
     "execution_count": 53,
     "metadata": {},
     "output_type": "execute_result"
    }
   ],
   "source": [
    "outro_total = pd[\"outro\"].sum()\n",
    "outro_total"
   ]
  },
  {
   "cell_type": "code",
   "execution_count": 54,
   "id": "813ae29f",
   "metadata": {
    "scrolled": true
   },
   "outputs": [
    {
     "data": {
      "text/plain": [
       "14.5"
      ]
     },
     "execution_count": 54,
     "metadata": {},
     "output_type": "execute_result"
    }
   ],
   "source": [
    "compositing_total = pd[\"compositing\"].sum()\n",
    "compositing_total"
   ]
  },
  {
   "cell_type": "code",
   "execution_count": 55,
   "id": "ab18234c",
   "metadata": {},
   "outputs": [
    {
     "name": "stdout",
     "output_type": "stream",
     "text": [
      "date           38\n",
      "month          38\n",
      "week           38\n",
      "day            38\n",
      "intro          38\n",
      "verse1         38\n",
      "solo1          38\n",
      "solo2          38\n",
      "verse2         38\n",
      "outro          38\n",
      "compositing    38\n",
      "total          38\n",
      "week total      6\n",
      "dtype: int64\n"
     ]
    }
   ],
   "source": [
    "sunday_subset = pd[pd[\"day\"] == \"sunday\"]\n",
    "print(sunday_subset.count())\n",
    "\n",
    "sunday_subset_intro_total = sunday_subset[\"intro\"].sum()\n",
    "sunday_subset_verse1_total = sunday_subset[\"verse1\"].sum()\n",
    "sunday_subset_solo1_total = sunday_subset[\"solo1\"].sum()\n",
    "sunday_subset_solo2_total = sunday_subset[\"solo2\"].sum()\n",
    "sunday_subset_verse2_total = sunday_subset[\"verse2\"].sum()\n",
    "sunday_subset_outro_total = sunday_subset[\"outro\"].sum()\n",
    "\n",
    "sunday_total = sunday_subset_intro_total + sunday_subset_verse1_total + sunday_subset_solo1_total + sunday_subset_solo2_total + sunday_subset_verse2_total + sunday_subset_outro_total\n",
    "sunday_mean = round((sunday_total / 38), 2)"
   ]
  },
  {
   "cell_type": "code",
   "execution_count": 56,
   "id": "474aa915",
   "metadata": {},
   "outputs": [
    {
     "name": "stdout",
     "output_type": "stream",
     "text": [
      "date           38\n",
      "month          38\n",
      "week           38\n",
      "day            38\n",
      "intro          38\n",
      "verse1         38\n",
      "solo1          38\n",
      "solo2          38\n",
      "verse2         38\n",
      "outro          38\n",
      "compositing    38\n",
      "total          38\n",
      "week total      6\n",
      "dtype: int64\n"
     ]
    }
   ],
   "source": [
    "monday_subset = pd[pd[\"day\"] == \"monday\"]\n",
    "print(monday_subset.count())\n",
    "\n",
    "monday_subset_intro_total = monday_subset[\"intro\"].sum()\n",
    "monday_subset_verse1_total = monday_subset[\"verse1\"].sum()\n",
    "monday_subset_solo1_total = monday_subset[\"solo1\"].sum()\n",
    "monday_subset_solo2_total = monday_subset[\"solo2\"].sum()\n",
    "monday_subset_verse2_total = monday_subset[\"verse2\"].sum()\n",
    "monday_subset_outro_total = monday_subset[\"outro\"].sum()\n",
    "\n",
    "monday_total = monday_subset_intro_total + monday_subset_verse1_total + monday_subset_solo1_total + monday_subset_solo2_total + monday_subset_verse2_total + monday_subset_outro_total\n",
    "monday_mean = round((monday_total / 38), 2)"
   ]
  },
  {
   "cell_type": "code",
   "execution_count": 57,
   "id": "5e021fe7",
   "metadata": {},
   "outputs": [
    {
     "name": "stdout",
     "output_type": "stream",
     "text": [
      "date           38\n",
      "month          38\n",
      "week           38\n",
      "day            38\n",
      "intro          38\n",
      "verse1         38\n",
      "solo1          38\n",
      "solo2          38\n",
      "verse2         38\n",
      "outro          38\n",
      "compositing    38\n",
      "total          38\n",
      "week total      6\n",
      "dtype: int64\n"
     ]
    }
   ],
   "source": [
    "tuesday_subset = pd[pd[\"day\"] == \"tuesday\"]\n",
    "print(tuesday_subset.count())\n",
    "\n",
    "tuesday_subset_intro_total = tuesday_subset[\"intro\"].sum()\n",
    "tuesday_subset_verse1_total = tuesday_subset[\"verse1\"].sum()\n",
    "tuesday_subset_solo1_total = tuesday_subset[\"solo1\"].sum()\n",
    "tuesday_subset_solo2_total = tuesday_subset[\"solo2\"].sum()\n",
    "tuesday_subset_verse2_total = tuesday_subset[\"verse2\"].sum()\n",
    "tuesday_subset_outro_total = tuesday_subset[\"outro\"].sum()\n",
    "\n",
    "tuesday_total = tuesday_subset_intro_total + tuesday_subset_verse1_total + tuesday_subset_solo1_total + tuesday_subset_solo2_total + tuesday_subset_verse2_total + tuesday_subset_outro_total\n",
    "tuesday_mean = round((tuesday_total / 38), 2)"
   ]
  },
  {
   "cell_type": "code",
   "execution_count": 58,
   "id": "6d30b93b",
   "metadata": {},
   "outputs": [
    {
     "name": "stdout",
     "output_type": "stream",
     "text": [
      "date           38\n",
      "month          38\n",
      "week           38\n",
      "day            38\n",
      "intro          38\n",
      "verse1         38\n",
      "solo1          38\n",
      "solo2          38\n",
      "verse2         38\n",
      "outro          38\n",
      "compositing    38\n",
      "total          38\n",
      "week total      6\n",
      "dtype: int64\n"
     ]
    }
   ],
   "source": [
    "wednesday_subset = pd[pd[\"day\"] == \"wednesday\"]\n",
    "print(wednesday_subset.count())\n",
    "\n",
    "wednesday_subset_intro_total = wednesday_subset[\"intro\"].sum()\n",
    "wednesday_subset_verse1_total = wednesday_subset[\"verse1\"].sum()\n",
    "wednesday_subset_solo1_total = wednesday_subset[\"solo1\"].sum()\n",
    "wednesday_subset_solo2_total = wednesday_subset[\"solo2\"].sum()\n",
    "wednesday_subset_verse2_total = wednesday_subset[\"verse2\"].sum()\n",
    "wednesday_subset_outro_total = wednesday_subset[\"outro\"].sum()\n",
    "\n",
    "wednesday_total = wednesday_subset_intro_total + wednesday_subset_verse1_total + wednesday_subset_solo1_total + wednesday_subset_solo2_total + wednesday_subset_verse2_total + wednesday_subset_outro_total\n",
    "wednesday_mean = round((wednesday_total / 38), 2)"
   ]
  },
  {
   "cell_type": "code",
   "execution_count": 59,
   "id": "6571ecea",
   "metadata": {},
   "outputs": [
    {
     "name": "stdout",
     "output_type": "stream",
     "text": [
      "date           37\n",
      "month          37\n",
      "week           37\n",
      "day            37\n",
      "intro          37\n",
      "verse1         37\n",
      "solo1          37\n",
      "solo2          37\n",
      "verse2         37\n",
      "outro          37\n",
      "compositing    37\n",
      "total          37\n",
      "week total      5\n",
      "dtype: int64\n"
     ]
    }
   ],
   "source": [
    "thursday_subset = pd[pd[\"day\"] == \"thursday\"]\n",
    "print(thursday_subset.count())\n",
    "\n",
    "thursday_subset_intro_total = thursday_subset[\"intro\"].sum()\n",
    "thursday_subset_verse1_total = thursday_subset[\"verse1\"].sum()\n",
    "thursday_subset_solo1_total = thursday_subset[\"solo1\"].sum()\n",
    "thursday_subset_solo2_total = thursday_subset[\"solo2\"].sum()\n",
    "thursday_subset_verse2_total = thursday_subset[\"verse2\"].sum()\n",
    "thursday_subset_outro_total = thursday_subset[\"outro\"].sum()\n",
    "\n",
    "thursday_total = thursday_subset_intro_total + thursday_subset_verse1_total + thursday_subset_solo1_total + thursday_subset_solo2_total + thursday_subset_verse2_total + thursday_subset_outro_total\n",
    "thursday_mean = round((thursday_total / 37), 2)\n"
   ]
  },
  {
   "cell_type": "code",
   "execution_count": 60,
   "id": "b035f9b9",
   "metadata": {},
   "outputs": [
    {
     "name": "stdout",
     "output_type": "stream",
     "text": [
      "date           37\n",
      "month          37\n",
      "week           37\n",
      "day            37\n",
      "intro          37\n",
      "verse1         37\n",
      "solo1          37\n",
      "solo2          37\n",
      "verse2         37\n",
      "outro          37\n",
      "compositing    37\n",
      "total          37\n",
      "week total      5\n",
      "dtype: int64\n"
     ]
    }
   ],
   "source": [
    "friday_subset = pd[pd[\"day\"] == \"friday\"]\n",
    "print(friday_subset.count())\n",
    "\n",
    "friday_subset_intro_total = friday_subset[\"intro\"].sum()\n",
    "friday_subset_verse1_total = friday_subset[\"verse1\"].sum()\n",
    "friday_subset_solo1_total = friday_subset[\"solo1\"].sum()\n",
    "friday_subset_solo2_total = friday_subset[\"solo2\"].sum()\n",
    "friday_subset_verse2_total = friday_subset[\"verse2\"].sum()\n",
    "friday_subset_outro_total = friday_subset[\"outro\"].sum()\n",
    "\n",
    "friday_total = friday_subset_intro_total + friday_subset_verse1_total + friday_subset_solo1_total + friday_subset_solo2_total + friday_subset_verse2_total + friday_subset_outro_total\n",
    "friday_mean = round((friday_total / 37), 2)\n"
   ]
  },
  {
   "cell_type": "code",
   "execution_count": 61,
   "id": "ee3c167a",
   "metadata": {},
   "outputs": [
    {
     "name": "stdout",
     "output_type": "stream",
     "text": [
      "date           38\n",
      "month          38\n",
      "week           38\n",
      "day            38\n",
      "intro          38\n",
      "verse1         38\n",
      "solo1          38\n",
      "solo2          38\n",
      "verse2         38\n",
      "outro          38\n",
      "compositing    38\n",
      "total          38\n",
      "week total      5\n",
      "dtype: int64\n"
     ]
    }
   ],
   "source": [
    "saturday_subset = pd[pd[\"day\"] == \"saturday\"]\n",
    "print(saturday_subset.count())\n",
    "\n",
    "saturday_subset_intro_total = saturday_subset[\"intro\"].sum()\n",
    "saturday_subset_verse1_total = saturday_subset[\"verse1\"].sum()\n",
    "saturday_subset_solo1_total = saturday_subset[\"solo1\"].sum()\n",
    "saturday_subset_solo2_total = saturday_subset[\"solo2\"].sum()\n",
    "saturday_subset_verse2_total = saturday_subset[\"verse2\"].sum()\n",
    "saturday_subset_outro_total = saturday_subset[\"outro\"].sum()\n",
    "\n",
    "saturday_total = saturday_subset_intro_total + saturday_subset_verse1_total + saturday_subset_solo1_total + saturday_subset_solo2_total + saturday_subset_verse2_total + saturday_subset_outro_total\n",
    "saturday_mean = round((saturday_total / 38), 2)\n"
   ]
  },
  {
   "cell_type": "code",
   "execution_count": 68,
   "id": "e99cae82",
   "metadata": {
    "scrolled": true
   },
   "outputs": [
    {
     "ename": "NameError",
     "evalue": "name 'figsize' is not defined",
     "output_type": "error",
     "traceback": [
      "\u001b[1;31m---------------------------------------------------------------------------\u001b[0m",
      "\u001b[1;31mNameError\u001b[0m                                 Traceback (most recent call last)",
      "\u001b[1;32m~\\AppData\\Local\\Temp\\ipykernel_13760\\2469504938.py\u001b[0m in \u001b[0;36m<module>\u001b[1;34m\u001b[0m\n\u001b[0;32m     15\u001b[0m \u001b[0max\u001b[0m\u001b[1;33m.\u001b[0m\u001b[0mset_xlabel\u001b[0m\u001b[1;33m(\u001b[0m\u001b[1;34m\"Hours\"\u001b[0m\u001b[1;33m)\u001b[0m\u001b[1;33m\u001b[0m\u001b[1;33m\u001b[0m\u001b[0m\n\u001b[0;32m     16\u001b[0m \u001b[0max\u001b[0m\u001b[1;33m.\u001b[0m\u001b[0mset_title\u001b[0m\u001b[1;33m(\u001b[0m\u001b[1;34m\"Average Hours Worked Per Day\"\u001b[0m\u001b[1;33m)\u001b[0m\u001b[1;33m\u001b[0m\u001b[1;33m\u001b[0m\u001b[0m\n\u001b[1;32m---> 17\u001b[1;33m \u001b[0mplt\u001b[0m\u001b[1;33m.\u001b[0m\u001b[0mfigure\u001b[0m\u001b[1;33m(\u001b[0m\u001b[0mfigsize\u001b[0m\u001b[1;33m(\u001b[0m\u001b[1;36m30\u001b[0m\u001b[1;33m,\u001b[0m \u001b[1;36m2010\u001b[0m\u001b[1;33m)\u001b[0m\u001b[1;33m)\u001b[0m\u001b[1;33m\u001b[0m\u001b[1;33m\u001b[0m\u001b[0m\n\u001b[0m\u001b[0;32m     18\u001b[0m \u001b[0mplt\u001b[0m\u001b[1;33m.\u001b[0m\u001b[0mshow\u001b[0m\u001b[1;33m(\u001b[0m\u001b[1;33m)\u001b[0m\u001b[1;33m\u001b[0m\u001b[1;33m\u001b[0m\u001b[0m\n",
      "\u001b[1;31mNameError\u001b[0m: name 'figsize' is not defined"
     ]
    },
    {
     "data": {
      "image/png": "[encoded data removed]",
      "text/plain": [
       "<Figure size 1000x400 with 1 Axes>"
      ]
     },
     "metadata": {},
     "output_type": "display_data"
    }
   ],
   "source": [
    "day = [\"Sunday\", \"Monday\", \"Tuesday\", \"Wednesday\", \"Thursday\", \"Friday\", \"Saturday\"]\n",
    "mean = [sunday_mean, monday_mean, tuesday_mean, wednesday_mean, thursday_mean, friday_mean, saturday_mean]\n",
    "\n",
    "fig, ax = plt.subplots()\n",
    "bars = ax.barh(day, mean)\n",
    "\n",
    "days = (\"Sunday\", \"Monday\", \"Tuesday\", \"Wednesday\", \"Thursday\", \"Friday\", \"Saturday\")\n",
    "y_pos = np.arange(len(days))\n",
    "hours = (sunday_mean, monday_mean, tuesday_mean, wednesday_mean, thursday_mean, friday_mean, saturday_mean)\n",
    "\n",
    "ax.barh(y_pos, hours, align = \"center\", color=\"#6757FA\")\n",
    "ax.bar_label(bars, label_type=\"center\", color=\"w\")\n",
    "ax.set_yticks(y_pos, labels = days)\n",
    "ax.invert_yaxis()\n",
    "ax.set_xlabel(\"Hours\")\n",
    "ax.set_title(\"Average Hours Worked Per Day\")\n",
    "plt.show()"
   ]
  },
  {
   "cell_type": "code",
   "execution_count": 63,
   "id": "dd517449",
   "metadata": {
    "scrolled": true
   },
   "outputs": [
    {
     "data": {
      "text/html": [
       "<div>\n",
       "<style scoped>\n",
       "    .dataframe tbody tr th:only-of-type {\n",
       "        vertical-align: middle;\n",
       "    }\n",
       "\n",
       "    .dataframe tbody tr th {\n",
       "        vertical-align: top;\n",
       "    }\n",
       "\n",
       "    .dataframe thead th {\n",
       "        text-align: right;\n",
       "    }\n",
       "</style>\n",
       "<table border=\"1\" class=\"dataframe\">\n",
       "  <thead>\n",
       "    <tr style=\"text-align: right;\">\n",
       "      <th></th>\n",
       "      <th>date</th>\n",
       "      <th>month</th>\n",
       "      <th>week</th>\n",
       "      <th>day</th>\n",
       "      <th>intro</th>\n",
       "      <th>verse1</th>\n",
       "      <th>solo1</th>\n",
       "      <th>solo2</th>\n",
       "      <th>verse2</th>\n",
       "      <th>outro</th>\n",
       "      <th>compositing</th>\n",
       "      <th>total</th>\n",
       "      <th>week total</th>\n",
       "    </tr>\n",
       "  </thead>\n",
       "  <tbody>\n",
       "    <tr>\n",
       "      <th>0</th>\n",
       "      <td>4/1</td>\n",
       "      <td>april</td>\n",
       "      <td>1</td>\n",
       "      <td>saturday</td>\n",
       "      <td>6.0</td>\n",
       "      <td>0.0</td>\n",
       "      <td>0.0</td>\n",
       "      <td>0.0</td>\n",
       "      <td>2.0</td>\n",
       "      <td>0.0</td>\n",
       "      <td>0.0</td>\n",
       "      <td>8.0</td>\n",
       "      <td>NaN</td>\n",
       "    </tr>\n",
       "    <tr>\n",
       "      <th>1</th>\n",
       "      <td>4/2</td>\n",
       "      <td>april</td>\n",
       "      <td>2</td>\n",
       "      <td>sunday</td>\n",
       "      <td>4.0</td>\n",
       "      <td>0.0</td>\n",
       "      <td>0.0</td>\n",
       "      <td>0.0</td>\n",
       "      <td>0.0</td>\n",
       "      <td>0.0</td>\n",
       "      <td>0.0</td>\n",
       "      <td>4.0</td>\n",
       "      <td>8.0</td>\n",
       "    </tr>\n",
       "    <tr>\n",
       "      <th>2</th>\n",
       "      <td>4/3</td>\n",
       "      <td>april</td>\n",
       "      <td>2</td>\n",
       "      <td>monday</td>\n",
       "      <td>4.5</td>\n",
       "      <td>0.0</td>\n",
       "      <td>0.0</td>\n",
       "      <td>0.0</td>\n",
       "      <td>0.0</td>\n",
       "      <td>0.0</td>\n",
       "      <td>0.0</td>\n",
       "      <td>4.5</td>\n",
       "      <td>19.0</td>\n",
       "    </tr>\n",
       "    <tr>\n",
       "      <th>3</th>\n",
       "      <td>4/4</td>\n",
       "      <td>april</td>\n",
       "      <td>2</td>\n",
       "      <td>tuesday</td>\n",
       "      <td>4.0</td>\n",
       "      <td>0.0</td>\n",
       "      <td>0.0</td>\n",
       "      <td>0.0</td>\n",
       "      <td>0.0</td>\n",
       "      <td>0.0</td>\n",
       "      <td>0.0</td>\n",
       "      <td>4.0</td>\n",
       "      <td>5.0</td>\n",
       "    </tr>\n",
       "    <tr>\n",
       "      <th>4</th>\n",
       "      <td>4/5</td>\n",
       "      <td>april</td>\n",
       "      <td>2</td>\n",
       "      <td>wednesday</td>\n",
       "      <td>3.5</td>\n",
       "      <td>0.0</td>\n",
       "      <td>0.0</td>\n",
       "      <td>0.0</td>\n",
       "      <td>0.0</td>\n",
       "      <td>0.0</td>\n",
       "      <td>0.0</td>\n",
       "      <td>3.5</td>\n",
       "      <td>19.5</td>\n",
       "    </tr>\n",
       "    <tr>\n",
       "      <th>...</th>\n",
       "      <td>...</td>\n",
       "      <td>...</td>\n",
       "      <td>...</td>\n",
       "      <td>...</td>\n",
       "      <td>...</td>\n",
       "      <td>...</td>\n",
       "      <td>...</td>\n",
       "      <td>...</td>\n",
       "      <td>...</td>\n",
       "      <td>...</td>\n",
       "      <td>...</td>\n",
       "      <td>...</td>\n",
       "      <td>...</td>\n",
       "    </tr>\n",
       "    <tr>\n",
       "      <th>259</th>\n",
       "      <td>12/16</td>\n",
       "      <td>december</td>\n",
       "      <td>38</td>\n",
       "      <td>saturday</td>\n",
       "      <td>0.0</td>\n",
       "      <td>0.0</td>\n",
       "      <td>0.0</td>\n",
       "      <td>0.0</td>\n",
       "      <td>1.5</td>\n",
       "      <td>0.0</td>\n",
       "      <td>1.0</td>\n",
       "      <td>1.5</td>\n",
       "      <td>NaN</td>\n",
       "    </tr>\n",
       "    <tr>\n",
       "      <th>260</th>\n",
       "      <td>12/17</td>\n",
       "      <td>december</td>\n",
       "      <td>39</td>\n",
       "      <td>sunday</td>\n",
       "      <td>0.0</td>\n",
       "      <td>0.0</td>\n",
       "      <td>0.0</td>\n",
       "      <td>0.0</td>\n",
       "      <td>1.5</td>\n",
       "      <td>0.0</td>\n",
       "      <td>3.5</td>\n",
       "      <td>1.5</td>\n",
       "      <td>NaN</td>\n",
       "    </tr>\n",
       "    <tr>\n",
       "      <th>261</th>\n",
       "      <td>12/18</td>\n",
       "      <td>december</td>\n",
       "      <td>39</td>\n",
       "      <td>monday</td>\n",
       "      <td>0.0</td>\n",
       "      <td>3.5</td>\n",
       "      <td>0.0</td>\n",
       "      <td>0.0</td>\n",
       "      <td>0.0</td>\n",
       "      <td>0.0</td>\n",
       "      <td>0.0</td>\n",
       "      <td>3.5</td>\n",
       "      <td>NaN</td>\n",
       "    </tr>\n",
       "    <tr>\n",
       "      <th>262</th>\n",
       "      <td>12/19</td>\n",
       "      <td>december</td>\n",
       "      <td>39</td>\n",
       "      <td>tuesday</td>\n",
       "      <td>0.0</td>\n",
       "      <td>1.5</td>\n",
       "      <td>0.0</td>\n",
       "      <td>0.0</td>\n",
       "      <td>0.0</td>\n",
       "      <td>0.0</td>\n",
       "      <td>0.0</td>\n",
       "      <td>1.5</td>\n",
       "      <td>NaN</td>\n",
       "    </tr>\n",
       "    <tr>\n",
       "      <th>263</th>\n",
       "      <td>12/20</td>\n",
       "      <td>december</td>\n",
       "      <td>39</td>\n",
       "      <td>wednesday</td>\n",
       "      <td>0.0</td>\n",
       "      <td>0.5</td>\n",
       "      <td>0.0</td>\n",
       "      <td>0.0</td>\n",
       "      <td>0.0</td>\n",
       "      <td>0.0</td>\n",
       "      <td>0.0</td>\n",
       "      <td>0.5</td>\n",
       "      <td>NaN</td>\n",
       "    </tr>\n",
       "  </tbody>\n",
       "</table>\n",
       "<p>264 rows × 13 columns</p>\n",
       "</div>"
      ],
      "text/plain": [
       "      date     month  week        day  intro  verse1  solo1  solo2  verse2  \\\n",
       "0      4/1     april     1   saturday    6.0     0.0    0.0    0.0     2.0   \n",
       "1      4/2     april     2     sunday    4.0     0.0    0.0    0.0     0.0   \n",
       "2      4/3     april     2     monday    4.5     0.0    0.0    0.0     0.0   \n",
       "3      4/4     april     2    tuesday    4.0     0.0    0.0    0.0     0.0   \n",
       "4      4/5     april     2  wednesday    3.5     0.0    0.0    0.0     0.0   \n",
       "..     ...       ...   ...        ...    ...     ...    ...    ...     ...   \n",
       "259  12/16  december    38   saturday    0.0     0.0    0.0    0.0     1.5   \n",
       "260  12/17  december    39     sunday    0.0     0.0    0.0    0.0     1.5   \n",
       "261  12/18  december    39     monday    0.0     3.5    0.0    0.0     0.0   \n",
       "262  12/19  december    39    tuesday    0.0     1.5    0.0    0.0     0.0   \n",
       "263  12/20  december    39  wednesday    0.0     0.5    0.0    0.0     0.0   \n",
       "\n",
       "     outro  compositing  total  week total  \n",
       "0      0.0          0.0    8.0         NaN  \n",
       "1      0.0          0.0    4.0         8.0  \n",
       "2      0.0          0.0    4.5        19.0  \n",
       "3      0.0          0.0    4.0         5.0  \n",
       "4      0.0          0.0    3.5        19.5  \n",
       "..     ...          ...    ...         ...  \n",
       "259    0.0          1.0    1.5         NaN  \n",
       "260    0.0          3.5    1.5         NaN  \n",
       "261    0.0          0.0    3.5         NaN  \n",
       "262    0.0          0.0    1.5         NaN  \n",
       "263    0.0          0.0    0.5         NaN  \n",
       "\n",
       "[264 rows x 13 columns]"
      ]
     },
     "execution_count": 63,
     "metadata": {},
     "output_type": "execute_result"
    }
   ],
   "source": [
    "pd_line = pd\n",
    "pd_line[\"total\"] = pd_line[\"intro\"] + pd_line[\"verse1\"] + pd_line[\"solo1\"] + pd_line[\"solo2\"] + pd_line[\"verse2\"] + pd_line[\"outro\"]\n",
    "\n",
    "pd_week = pd_line\n",
    "pd_week"
   ]
  },
  {
   "cell_type": "code",
   "execution_count": 64,
   "id": "9a39e980",
   "metadata": {
    "scrolled": true
   },
   "outputs": [
    {
     "data": {
      "text/plain": [
       "1      8.0\n",
       "2     19.0\n",
       "3      5.0\n",
       "4     19.5\n",
       "5     10.5\n",
       "6      3.5\n",
       "7     24.0\n",
       "8     27.5\n",
       "9     24.5\n",
       "10    15.0\n",
       "11    25.5\n",
       "12    19.5\n",
       "13    29.0\n",
       "14    19.0\n",
       "15     6.5\n",
       "16    12.5\n",
       "17    17.0\n",
       "18    14.5\n",
       "19    19.5\n",
       "20    35.5\n",
       "21    22.0\n",
       "22    27.0\n",
       "23    19.5\n",
       "24    24.5\n",
       "25    14.0\n",
       "26    23.5\n",
       "27    14.0\n",
       "28     7.5\n",
       "29     6.5\n",
       "30    13.0\n",
       "31    13.5\n",
       "32    14.5\n",
       "33     9.0\n",
       "34    28.0\n",
       "35     5.5\n",
       "36    18.0\n",
       "37    27.5\n",
       "38    12.0\n",
       "39     7.0\n",
       "Name: week total, dtype: float64"
      ]
     },
     "execution_count": 64,
     "metadata": {},
     "output_type": "execute_result"
    }
   ],
   "source": [
    "df_weektotal = pd_week\n",
    "\n",
    "for week in pd_week:\n",
    "    pd_week[\"week total\"] = pd_week[\"total\"].groupby(pd_week[\"week\"]).sum()\n",
    "    \n",
    "df_weektotal = df_weektotal[\"week total\"].dropna()\n",
    "df_weektotal"
   ]
  },
  {
   "cell_type": "code",
   "execution_count": 65,
   "id": "456dc571",
   "metadata": {
    "scrolled": false
   },
   "outputs": [
    {
     "data": {
      "image/png": "[encoded data removed]",
      "text/plain": [
       "<Figure size 1000x400 with 1 Axes>"
      ]
     },
     "metadata": {},
     "output_type": "display_data"
    },
    {
     "data": {
      "text/plain": [
       "<Figure size 4000x1000 with 0 Axes>"
      ]
     },
     "metadata": {},
     "output_type": "display_data"
    }
   ],
   "source": [
    "from scipy.interpolate import make_interp_spline, BSpline\n",
    "\n",
    "x = list(range(1, 40))\n",
    "y = []\n",
    "\n",
    "for i in df_weektotal:\n",
    "    y.append(i)\n",
    "    \n",
    "arr_x = np.array(x)\n",
    "arr_y = np.array(y)\n",
    "\n",
    "xnew = np.linspace(arr_x.min(), arr_x.max(), 200) \n",
    "\n",
    "spl = make_interp_spline(arr_x, arr_y, k=3)\n",
    "y_smooth = spl(xnew)\n",
    "\n",
    "font = {\n",
    "    \"size\": 8\n",
    "}\n",
    "\n",
    "plt.plot(xnew, y_smooth)\n",
    "\n",
    "plt.text(1.8, 32, \" Classes\", fontdict = font)\n",
    "plt.axvspan(0, 6, color='gray', alpha=0.5)\n",
    "\n",
    "plt.text(14.9, 32, \"Vacation\", fontdict = font)\n",
    "plt.axvspan(13.5, 18.5, color='gray', alpha=0.5)\n",
    "\n",
    "\n",
    "plt.text(31.5, 32, \"Classes\", fontdict = font)\n",
    "plt.axvspan(25, 40, color='gray', alpha=0.5)\n",
    "\n",
    "\n",
    "plt.ylabel(\"Hours Worked\")\n",
    "plt.xlabel(\"Week # (April-December)\")\n",
    "plt.title(\"Avg. Hours Worked Per Week\")\n",
    "plt.figure(figsize=(40, 10))\n",
    "plt.show() "
   ]
  },
  {
   "cell_type": "code",
   "execution_count": 66,
   "id": "00bad6a4",
   "metadata": {},
   "outputs": [
    {
     "data": {
      "image/png": "[encoded data removed]",
      "text/plain": [
       "<Figure size 700x500 with 1 Axes>"
      ]
     },
     "metadata": {},
     "output_type": "display_data"
    }
   ],
   "source": [
    "sections = [intro_total, verse1_total, solo_total, verse2_total, outro_total]\n",
    "labels = [\"Intro\", \"Verse 1\", \"Gtr Solo\", \"Verse 2\", \"Outro\"]\n",
    "\n",
    "fig, ax = plt.subplots(figsize=(7, 5))\n",
    "\n",
    "def func(pct, allvals):\n",
    "    absolute = int(np.round(pct/100.*np.sum(allvals)))\n",
    "    return f\"{pct:.1f}%\\n({absolute:d} hours)\"\n",
    "\n",
    "wedges, texts, autotexts = ax.pie(sections, autopct = lambda pct: func(pct, sections), textprops = dict(color = \"w\"))\n",
    "ax.legend(wedges, labels, title = \"Section\", loc = \"center left\", bbox_to_anchor = (1, 0, 0.5, 1))\n",
    "plt.setp(autotexts, size = 8, weight = \"bold\")\n",
    "ax.set_title(\"Breakdown of Hours Per Song Section\")\n",
    "\n",
    "plt.show()"
   ]
  }
 ],
 "metadata": {
  "kernelspec": {
   "display_name": "Python 3 (ipykernel)",
   "language": "python",
   "name": "python3"
  },
  "language_info": {
   "codemirror_mode": {
    "name": "ipython",
    "version": 3
   },
   "file_extension": ".py",
   "mimetype": "text/x-python",
   "name": "python",
   "nbconvert_exporter": "python",
   "pygments_lexer": "ipython3",
   "version": "3.9.13"
  }
 },
 "nbformat": 4,
 "nbformat_minor": 5
}
